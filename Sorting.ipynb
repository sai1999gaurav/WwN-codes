{
 "cells": [
  {
   "cell_type": "code",
   "execution_count": 1,
   "id": "bb4d6216",
   "metadata": {},
   "outputs": [
    {
     "name": "stdout",
     "output_type": "stream",
     "text": [
      "0\n",
      "[1, 3, 1, 4, 5, 2, 6, 9]\n",
      "1\n",
      "[1, 1, 3, 4, 2, 5, 6, 9]\n",
      "2\n",
      "[1, 1, 3, 2, 4, 5, 6, 9]\n",
      "3\n",
      "[1, 1, 2, 3, 4, 5, 6, 9]\n",
      "4\n",
      "[1, 1, 2, 3, 4, 5, 6, 9]\n",
      "[1, 1, 2, 3, 4, 5, 6, 9]\n"
     ]
    }
   ],
   "source": [
    "#Bubble sort\n",
    "a = [3, 1, 4, 1, 5, 9, 2, 6]\n",
    "n = len(a)\n",
    "orig = a.copy()\n",
    "for i in range(n):\n",
    "    print(i)\n",
    "    change = 0\n",
    "    for j in range(n-i-1):\n",
    "        if (a[j] > a[j+1]):\n",
    "            change = 1\n",
    "            tmp = a[j]\n",
    "            a[j] = a[j+1]\n",
    "            a[j+1] = tmp\n",
    "    print(a)\n",
    "    if (change == 0):\n",
    "        break\n",
    "print(a)\n",
    "    "
   ]
  },
  {
   "cell_type": "code",
   "execution_count": 23,
   "id": "e9435cd2",
   "metadata": {},
   "outputs": [
    {
     "name": "stdout",
     "output_type": "stream",
     "text": [
      "[3, 1, 4, 1, 5, 9, 2, 6] [1, 1, 2, 3, 4, 5, 6, 9]\n"
     ]
    }
   ],
   "source": [
    "#merge sort\n",
    "import math \n",
    "\n",
    "def merge(P, Q):\n",
    "    #print(\"merge start\")\n",
    "    #print(P, Q, len(P), len(Q))\n",
    "    C = [0]*(len(P)+len(Q))\n",
    "    #print(C)\n",
    "    p, q, c = 0, 0, 0\n",
    "    while ((p < len(P)) and (q < len(Q))):\n",
    "        #print(p ,q, c)\n",
    "        if(P[p] <= Q[q]):\n",
    "            C[c] = P[p]\n",
    "            p += 1\n",
    "        else:\n",
    "            C[c] = Q[q]\n",
    "            q += 1\n",
    "        c += 1\n",
    "        #print(C, c)\n",
    "    if (p >= len(P)):\n",
    "        C[c:] = Q[q:]\n",
    "    else:\n",
    "        C[c:] = P[p:]\n",
    "    #print(\"merge end\")\n",
    "    #print(C)\n",
    "    return C\n",
    "\n",
    "def mergesort(A, k):\n",
    "    if (k == 1):\n",
    "        return A\n",
    "    m = math.floor(k/2)\n",
    "    A1 = A[0:m]\n",
    "    A2 = A[m:]\n",
    "    #print(\"divide\")\n",
    "    #print(A1, A2)\n",
    "    B1 = mergesort(A1, m)\n",
    "    B2 = mergesort(A2, k-m)\n",
    "    #print(B1, B2)\n",
    "    #print(\"perform merge\")\n",
    "    return merge(B1, B2)\n",
    "\n",
    "A = orig.copy()\n",
    "A_sort = mergesort(A, len(A))\n",
    "print(orig, A_sort)\n",
    "        \n",
    "\n"
   ]
  }
 ],
 "metadata": {
  "kernelspec": {
   "display_name": "Python 3",
   "language": "python",
   "name": "python3"
  },
  "language_info": {
   "codemirror_mode": {
    "name": "ipython",
    "version": 3
   },
   "file_extension": ".py",
   "mimetype": "text/x-python",
   "name": "python",
   "nbconvert_exporter": "python",
   "pygments_lexer": "ipython3",
   "version": "3.8.8"
  }
 },
 "nbformat": 4,
 "nbformat_minor": 5
}

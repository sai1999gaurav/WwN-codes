{
 "cells": [
  {
   "cell_type": "code",
   "execution_count": 2,
   "id": "f6529dc8",
   "metadata": {},
   "outputs": [
    {
     "name": "stdout",
     "output_type": "stream",
     "text": [
      "['0', '1', '4', '3\\n']\n",
      "['0', '3', '3', '4\\n']\n",
      "['0', '4', '5', '6\\n']\n",
      "['1', '2', '4', '2\\n']\n",
      "['1', '6', '6', '5\\n']\n",
      "['2', '7', '3', '4\\n']\n",
      "['3', '1', '2', '3\\n']\n",
      "['4', '2', '2', '3\\n']\n",
      "['4', '3', '2', '4\\n']\n",
      "['4', '5', '7', '5\\n']\n",
      "['5', '7', '1', '2\\n']\n",
      "['6', '2', '1', '5\\n']\n",
      "['6', '7', '2', '4\\n']\n",
      "[[0, 1, 4, 3], [0, 3, 3, 4], [0, 4, 5, 6], [1, 2, 4, 2], [1, 6, 6, 5], [2, 7, 3, 4], [3, 1, 2, 3], [4, 2, 2, 3], [4, 3, 2, 4], [4, 5, 7, 5], [5, 7, 1, 2], [6, 2, 1, 5], [6, 7, 2, 4]] \n",
      "\n",
      "{0: [1, 3, 4], 1: [2, 6], 2: [7], 3: [1], 4: [2, 3, 5], 5: [7], 6: [2, 7]}\n"
     ]
    }
   ],
   "source": [
    "fread = open(\"Session 3.txt\", \"r\") #netdata.txt\n",
    "G_v_e = fread.readline()\n",
    "G_v_e = G_v_e.split(' ') #change to \\t if tab spaced\n",
    "V = int(G_v_e[0])\n",
    "E = int(G_v_e[1].strip())\n",
    "V_list = list(range(0,V,1))\n",
    "lines = fread.readlines()\n",
    "A_dict = {}\n",
    "G_mat = [ [ 0 for i in range(4) ] for j in range(E) ]\n",
    "g = 0\n",
    "for line in lines:\n",
    "    t_h = line.split(' ') #change to \\t if tab spaced\n",
    "    print(t_h)\n",
    "    G_mat[g][0] = int(t_h[0])\n",
    "    G_mat[g][1] = int(t_h[1])\n",
    "    G_mat[g][2] = int(t_h[2])\n",
    "    G_mat[g][3] = int(t_h[3].strip())\n",
    "    g += 1\n",
    "for i in range(E):\n",
    "    tail = G_mat[i][0]\n",
    "    head = G_mat[i][1]\n",
    "    if tail in A_dict.keys():\n",
    "        A_dict[tail].append(head)        \n",
    "    else:\n",
    "        A_dict[tail] = [head]\n",
    "print(G_mat, \"\\n\")\n",
    "print(A_dict)       "
   ]
  },
  {
   "cell_type": "code",
   "execution_count": 3,
   "id": "b0042162",
   "metadata": {},
   "outputs": [
    {
     "name": "stdout",
     "output_type": "stream",
     "text": [
      "10\n",
      "{0: 0, 1: 0, 2: 4, 3: 0, 4: 0, 5: 4, 6: 1, 7: 2}\n",
      "[0, 4, 2, 7]\n"
     ]
    }
   ],
   "source": [
    "import math\n",
    "def Bellman_Ford(G_mat, V, E, s, t):\n",
    "    parent = {}\n",
    "    for i in range(V):\n",
    "        parent[i] = i\n",
    "    #print(parent)\n",
    "    dist = [math.inf]*V\n",
    "    dist[s] = 0\n",
    "    changed_flag = True\n",
    "    itr = 1\n",
    "    while (changed_flag):\n",
    "        changed_flag = False\n",
    "        d_copy = dist.copy()  #remove this for modified\n",
    "        for i in range(E):\n",
    "            tail = G_mat[i][0]\n",
    "            head = G_mat[i][1]\n",
    "            if (d_copy[head] > dist[tail] + G_mat[i][2]): #d_copy[head] to dist[head]\n",
    "                d_copy[head] = dist[tail] + G_mat[i][2] #d_copy[head] to dist[head]\n",
    "                parent[head] = tail\n",
    "                changed_flag = True\n",
    "        dist = d_copy #remove this for modified\n",
    "        #print(itr)\n",
    "        #print(dist)\n",
    "        #print(parent)\n",
    "        itr = itr + 1\n",
    "        if (itr > V): #to take care of negative cycles\n",
    "            break        \n",
    "    return dist[t], parent\n",
    "\n",
    "s = 0\n",
    "t = 7\n",
    "min_cost, parent = Bellman_Ford(G_mat, V, E, s, t)\n",
    "print(min_cost)\n",
    "print(parent)\n",
    "path = [t]\n",
    "curr = t\n",
    "while (curr != s and curr != parent[curr]):\n",
    "    curr = parent[curr]\n",
    "    path.insert(0, curr)\n",
    "print(path)"
   ]
  },
  {
   "cell_type": "code",
   "execution_count": 8,
   "id": "137baef3",
   "metadata": {},
   "outputs": [
    {
     "name": "stdout",
     "output_type": "stream",
     "text": [
      "0\n",
      "75\n",
      "1459\n"
     ]
    }
   ],
   "source": [
    "max_n = 0\n",
    "max_c = 0\n",
    "max_s = 0\n",
    "for s in range(V):\n",
    "    for t in range(V):\n",
    "        min_cost, parent = Bellman_Ford(G_mat, V, E, s, t)\n",
    "        if (min_cost > max_c and min_cost != math.inf):\n",
    "            max_c = min_cost\n",
    "            max_n = t\n",
    "            max_s = s\n",
    "print(max_s)\n",
    "print(max_n)\n",
    "print(max_c)\n",
    "        \n",
    "        \n",
    "    \n",
    "    "
   ]
  },
  {
   "cell_type": "code",
   "execution_count": 11,
   "id": "53f6e546",
   "metadata": {},
   "outputs": [
    {
     "name": "stdout",
     "output_type": "stream",
     "text": [
      "4\n",
      "64\n"
     ]
    }
   ],
   "source": [
    "min_n = 0\n",
    "min_c = math.inf\n",
    "for s in [5]:\n",
    "    for t in range(V):\n",
    "        min_cost, parent = Bellman_Ford(G_mat, V, E, s, t)\n",
    "        if (min_cost < min_c and min_cost != math.inf and t != 5):\n",
    "            min_c = min_cost\n",
    "            min_n = t\n",
    "print(min_n)\n",
    "print(min_c)"
   ]
  },
  {
   "cell_type": "code",
   "execution_count": 5,
   "id": "eb32238d",
   "metadata": {},
   "outputs": [
    {
     "name": "stdout",
     "output_type": "stream",
     "text": [
      "10\n",
      "{0: 0, 1: 0, 2: 4, 3: 0, 4: 0, 5: 4, 6: 1, 7: 2}\n",
      "[0, 4, 2, 7]\n"
     ]
    }
   ],
   "source": [
    "cost = [[math.inf for i in range(V)] for j in range(V)]\n",
    "for i in range(V):\n",
    "    cost[i][i] = 0\n",
    "for i in range(E):\n",
    "    tail = G_mat[i][0]\n",
    "    head = G_mat[i][1]\n",
    "    cost[tail][head] = G_mat[i][2] #make it 1 for BFS\n",
    "\n",
    "#print(cost)\n",
    "def Dijkstra(G_mat, A_dict, cost, V, E, s, t):\n",
    "    parent = {}\n",
    "    for i in range(V):\n",
    "        parent[i] = i\n",
    "    dist = [math.inf]*V\n",
    "    dist[s] = 0\n",
    "    fixed = [s]\n",
    "    chosen = s\n",
    "    while (t not in fixed):\n",
    "        if (chosen not in A_dict.keys()):\n",
    "            print(\"cant use DJ here\")\n",
    "            return dist[t], parent\n",
    "        chosen_range = A_dict[chosen]\n",
    "        k = -1\n",
    "        for i in range(len(chosen_range)):\n",
    "            j = chosen_range[i]\n",
    "            if (j in fixed):\n",
    "                continue\n",
    "            if (dist[j] >= dist[chosen] + cost[chosen][j]):\n",
    "                dist[j] = dist[chosen] + cost[chosen][j]\n",
    "                parent[j] = chosen\n",
    "        min_d = 1e8\n",
    "        min_v = -1\n",
    "        for v in range(V):\n",
    "            if ((dist[v] <= min_d) and (v not in fixed) and (dist[v] != math.inf) and (v in A_dict.keys() or v == t)):\n",
    "                min_d = dist[v]\n",
    "                min_v = v\n",
    "        k = min_v\n",
    "        if (k == -1 or k == math.inf):\n",
    "            break\n",
    "        else:\n",
    "            fixed.append(k)\n",
    "            chosen = k\n",
    "    return dist[t], parent\n",
    "s = 0\n",
    "t = 7\n",
    "min_cost, parent = Dijkstra(G_mat, A_dict, cost, V, E, s, t)\n",
    "print(min_cost)\n",
    "print(parent)\n",
    "path = [t]\n",
    "curr = t\n",
    "while (curr != s and curr != parent[curr]):\n",
    "    curr = parent[curr]\n",
    "    path.insert(0, curr)\n",
    "print(path)               \n",
    "            "
   ]
  },
  {
   "cell_type": "code",
   "execution_count": 6,
   "id": "3b87cd99",
   "metadata": {},
   "outputs": [],
   "source": [
    "fread.close()"
   ]
  }
 ],
 "metadata": {
  "kernelspec": {
   "display_name": "Python 3",
   "language": "python",
   "name": "python3"
  },
  "language_info": {
   "codemirror_mode": {
    "name": "ipython",
    "version": 3
   },
   "file_extension": ".py",
   "mimetype": "text/x-python",
   "name": "python",
   "nbconvert_exporter": "python",
   "pygments_lexer": "ipython3",
   "version": "3.8.8"
  }
 },
 "nbformat": 4,
 "nbformat_minor": 5
}

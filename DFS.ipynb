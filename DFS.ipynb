{
 "cells": [
  {
   "cell_type": "code",
   "execution_count": 42,
   "id": "d27032f2",
   "metadata": {},
   "outputs": [],
   "source": [
    "#create graph\n",
    "import numpy as np\n",
    "fread = open(\"Quiz1_4.txt\", \"r\")\n",
    "G_v_e = fread.readline()\n",
    "G_v_e = G_v_e.split(' ') #modify to \"\\t\" based on input\n",
    "V = int(G_v_e[0])\n",
    "E = int(G_v_e[1].strip())"
   ]
  },
  {
   "cell_type": "code",
   "execution_count": 43,
   "id": "88d7310a",
   "metadata": {},
   "outputs": [
    {
     "name": "stdout",
     "output_type": "stream",
     "text": [
      "{0: [1], 1: [5], 3: [11], 4: [0, 14], 5: [2], 6: [2], 7: [3, 10], 8: [0], 9: [6, 7], 10: [3, 9], 11: [4, 7], 12: [3, 5, 8], 13: [11], 14: [12]}\n"
     ]
    }
   ],
   "source": [
    "V_list = list(range(0,V,1))\n",
    "lines = fread.readlines()\n",
    "A_dict = {}\n",
    "for line in lines:\n",
    "    t_h = line.split(' ')\n",
    "    tail = int(t_h[0])\n",
    "    head = int(t_h[1].strip())\n",
    "    if tail in A_dict.keys():\n",
    "        A_dict[tail].append(head)        \n",
    "    else:\n",
    "        A_dict[tail] = [head]\n",
    "print(A_dict)"
   ]
  },
  {
   "cell_type": "code",
   "execution_count": 1,
   "id": "2fa4b38d",
   "metadata": {},
   "outputs": [
    {
     "name": "stdout",
     "output_type": "stream",
     "text": [
      "[[0, 5, 179, 1], [1, 3, 40, 1], [1, 10, 12, 1], [1, 17, 83, 1], [1, 20, 170, 1], [2, 7, 135, 1], [2, 12, 190, 1], [3, 1, 149, 1], [3, 10, 176, 1], [3, 17, 177, 1], [3, 20, 96, 1], [4, 7, 29, 1], [5, 21, 38, 1], [6, 14, 76, 1], [6, 23, 185, 1], [6, 24, 117, 1], [7, 9, 191, 1], [7, 12, 174, 1], [9, 8, 166, 1], [9, 12, 158, 1], [10, 3, 116, 1], [10, 17, 88, 1], [10, 20, 181, 1], [12, 16, 78, 1], [13, 2, 113, 1], [13, 4, 102, 1], [13, 16, 43, 1], [13, 19, 20, 1], [14, 0, 151, 1], [15, 1, 161, 1], [15, 3, 123, 1], [15, 10, 15, 1], [16, 7, 87, 1], [16, 11, 71, 1], [16, 19, 55, 1], [17, 1, 77, 1], [17, 3, 45, 1], [17, 10, 188, 1], [17, 15, 124, 1], [17, 20, 79, 1], [18, 6, 150, 1], [18, 14, 120, 1], [19, 2, 41, 1], [19, 4, 160, 1], [19, 8, 42, 1], [19, 9, 44, 1], [19, 11, 10, 1], [20, 10, 21, 1], [21, 0, 84, 1], [21, 6, 50, 1], [21, 18, 54, 1], [21, 22, 46, 1], [21, 24, 119, 1], [22, 0, 14, 1], [22, 6, 199, 1], [22, 18, 34, 1], [23, 5, 165, 1], [23, 14, 73, 1], [24, 6, 114, 1], [24, 18, 17, 1]] \n",
      "\n",
      "{0: [5], 1: [3, 10, 17, 20], 2: [7, 12], 3: [1, 10, 17, 20], 4: [7], 5: [21], 6: [14, 23, 24], 7: [9, 12], 9: [8, 12], 10: [3, 17, 20], 12: [16], 13: [2, 4, 16, 19], 14: [0], 15: [1, 3, 10], 16: [7, 11, 19], 17: [1, 3, 10, 15, 20], 18: [6, 14], 19: [2, 4, 8, 9, 11], 20: [10], 21: [0, 6, 18, 22, 24], 22: [0, 6, 18], 23: [5, 14], 24: [6, 18]}\n"
     ]
    }
   ],
   "source": [
    "# Netdata.txt type input\n",
    "fread = open(\"netdata.txt\", \"r\") #netdata.txt\n",
    "G_v_e = fread.readline()\n",
    "G_v_e = G_v_e.split(' ') #modify to \"\\t\" based on input\n",
    "V = int(G_v_e[0])\n",
    "E = int(G_v_e[1].strip())\n",
    "V_list = list(range(0,V,1))\n",
    "lines = fread.readlines()\n",
    "A_dict = {}\n",
    "G_mat = [ [ 0 for i in range(4) ] for j in range(E) ]\n",
    "g = 0\n",
    "for line in lines:\n",
    "    t_h = line.split(' ')\n",
    "    G_mat[g][0] = int(t_h[0])\n",
    "    G_mat[g][1] = int(t_h[1])\n",
    "    G_mat[g][2] = int(t_h[2])\n",
    "    G_mat[g][3] = int(t_h[3].strip())\n",
    "    g += 1\n",
    "for i in range(E):\n",
    "    tail = G_mat[i][0]\n",
    "    head = G_mat[i][1]\n",
    "    if tail in A_dict.keys():\n",
    "        A_dict[tail].append(head)        \n",
    "    else:\n",
    "        A_dict[tail] = [head]\n",
    "print(G_mat, \"\\n\")\n",
    "print(A_dict)   "
   ]
  },
  {
   "cell_type": "code",
   "execution_count": 2,
   "id": "b3e12796",
   "metadata": {},
   "outputs": [],
   "source": [
    "def remove(original, visited):\n",
    "    modified = original\n",
    "    for i in visited:\n",
    "        try: \n",
    "            modified.remove(i)\n",
    "        except ValueError:\n",
    "            pass\n",
    "    return modified"
   ]
  },
  {
   "cell_type": "code",
   "execution_count": 3,
   "id": "65997eb0",
   "metadata": {},
   "outputs": [],
   "source": [
    "#implementing DFS\n",
    "# search function\n",
    "def search(j, visited, traversal, A_dict):\n",
    "    if j not in A_dict.keys():\n",
    "        return\n",
    "    connected = remove(A_dict[j], visited)\n",
    "    #print(connected)\n",
    "    visited.extend(connected)\n",
    "    #print(visited)\n",
    "    for k in connected:\n",
    "        #print(k)\n",
    "        traversal.append(k)\n",
    "        #print(\"traversal \", traversal)\n",
    "        search(k, visited, traversal, A_dict)\n",
    "    return"
   ]
  },
  {
   "cell_type": "code",
   "execution_count": 4,
   "id": "6dea3c5f",
   "metadata": {},
   "outputs": [
    {
     "name": "stdout",
     "output_type": "stream",
     "text": [
      "[12, 16, 7, 9, 8, 11, 19, 2, 4]\n",
      "[0, 1, 3, 5, 6, 10, 13, 14, 15, 17, 18, 20, 21, 22, 23, 24]  nodes not reachable\n"
     ]
    }
   ],
   "source": [
    "#G = V, A_dict, start_node\n",
    "s = 12\n",
    "visited = [s]\n",
    "traversal = visited.copy()\n",
    "search(s, visited, traversal, A_dict)\n",
    "#print(traversal)\n",
    "if (len(visited) == V):\n",
    "    print(traversal)\n",
    "else:\n",
    "    remaining = remove(V_list, traversal) \n",
    "    print(traversal)\n",
    "    print(remaining, \" nodes not reachable\")\n",
    "    "
   ]
  },
  {
   "cell_type": "code",
   "execution_count": 5,
   "id": "df939b44",
   "metadata": {},
   "outputs": [],
   "source": [
    "fread.close()"
   ]
  },
  {
   "cell_type": "code",
   "execution_count": 25,
   "id": "08c940a8",
   "metadata": {},
   "outputs": [
    {
     "name": "stdout",
     "output_type": "stream",
     "text": [
      "[16, 7, 9, 8, 12, 11, 19, 2, 4]\n"
     ]
    }
   ],
   "source": [
    "# DFS_stack\n",
    "def dfs_stack(graph, node, visited):\n",
    "    if node not in visited:\n",
    "        visited.append(node)\n",
    "        #print(visited)\n",
    "        if node not in graph.keys():\n",
    "            return visited\n",
    "        for k in graph[node]:\n",
    "            #print(k)\n",
    "            visited = dfs_stack(graph,k, visited)\n",
    "    return visited\n",
    " \n",
    "traversal_1 = dfs_stack(A_dict,16, [])\n",
    "print(traversal_1)"
   ]
  },
  {
   "cell_type": "code",
   "execution_count": 37,
   "id": "e5e42fb9",
   "metadata": {},
   "outputs": [
    {
     "name": "stdout",
     "output_type": "stream",
     "text": [
      "{0: [1, 4, 14], 1: [0, 5], 4: [0, 14, 13], 14: [0, 4, 12], 5: [1, 2, 8, 12], 2: [5], 3: [7, 10, 11, 9], 7: [3, 10, 11, 9], 10: [3, 7, 9], 11: [3, 7], 8: [5, 12], 12: [5, 8, 14], 6: [9], 9: [6, 3, 7, 10], 13: [4]}\n"
     ]
    }
   ],
   "source": [
    "# DFS undirected\n",
    "fread = open(\"Quiz1.txt\", \"r\")\n",
    "G_v_e = fread.readline()\n",
    "G_v_e = G_v_e.split(' ') #modify to \"\\t\" based on input\n",
    "#print(G_v_e)\n",
    "V = int(G_v_e[0])\n",
    "E = int(G_v_e[1].strip())\n",
    "V_list = list(range(0,V,1))\n",
    "lines = fread.readlines()\n",
    "B_dict = {}\n",
    "i = 0\n",
    "for line in lines:\n",
    "    #if (i == 0):\n",
    "        #i = 1\n",
    "        #continue\n",
    "    t_h = line.split(' ') #modify to \"\\t\" based on input\n",
    "    tail = int(t_h[0])\n",
    "    head = int(t_h[1].strip())\n",
    "    if tail in B_dict.keys():\n",
    "        B_dict[tail].append(head)       \n",
    "    else:\n",
    "        B_dict[tail] = [head]\n",
    "    if head in B_dict.keys():\n",
    "        B_dict[head].append(tail)       \n",
    "    else:\n",
    "        B_dict[head] = [tail]\n",
    "print(B_dict)"
   ]
  },
  {
   "cell_type": "code",
   "execution_count": 38,
   "id": "571c69bf",
   "metadata": {},
   "outputs": [
    {
     "name": "stdout",
     "output_type": "stream",
     "text": [
      "[7, 3, 10, 11, 9, 6]\n",
      "[0, 1, 2, 4, 5, 8, 12, 13, 14]  nodes not reachable\n",
      "[7, 3, 10, 11, 9, 6]\n"
     ]
    }
   ],
   "source": [
    "#Method_WwN\n",
    "s = 7\n",
    "visited = [s]\n",
    "traversal = visited.copy()\n",
    "search(s, visited, traversal, B_dict)\n",
    "#print(traversal)\n",
    "if (len(visited) == V):\n",
    "    print(traversal)\n",
    "else:\n",
    "    remaining = remove(V_list, traversal) \n",
    "    print(traversal)\n",
    "    print(remaining, \" nodes not reachable\")\n",
    "\n",
    "#Method_2\n",
    "traversal_2 = dfs_stack(B_dict,s, [])\n",
    "print(traversal_2)"
   ]
  },
  {
   "cell_type": "code",
   "execution_count": 48,
   "id": "9b6af3e8",
   "metadata": {},
   "outputs": [],
   "source": [
    "fread.close()"
   ]
  }
 ],
 "metadata": {
  "kernelspec": {
   "display_name": "Python 3",
   "language": "python",
   "name": "python3"
  },
  "language_info": {
   "codemirror_mode": {
    "name": "ipython",
    "version": 3
   },
   "file_extension": ".py",
   "mimetype": "text/x-python",
   "name": "python",
   "nbconvert_exporter": "python",
   "pygments_lexer": "ipython3",
   "version": "3.8.8"
  }
 },
 "nbformat": 4,
 "nbformat_minor": 5
}

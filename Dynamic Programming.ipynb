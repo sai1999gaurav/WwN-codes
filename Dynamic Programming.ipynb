{
 "cells": [
  {
   "cell_type": "code",
   "execution_count": 51,
   "id": "42e76c4d",
   "metadata": {},
   "outputs": [
    {
     "name": "stdout",
     "output_type": "stream",
     "text": [
      "[[0, 1, 4, 3], [0, 3, 3, 4], [0, 4, 5, 6], [1, 2, 4, 2], [1, 6, 6, 5], [2, 7, 3, 4], [3, 1, 2, 3], [4, 2, 2, 3], [4, 3, 2, 4], [4, 5, 7, 5], [5, 7, 1, 2], [6, 2, 1, 5], [6, 7, 2, 4]] \n",
      "\n",
      "{0: [1, 3, 4], 1: [2, 6], 2: [7], 3: [1], 4: [2, 3, 5], 5: [7], 6: [2, 7]}\n",
      "[[0, 4, inf, 3, 5, inf, inf, inf], [inf, 0, 4, inf, inf, inf, 6, inf], [inf, inf, 0, inf, inf, inf, inf, 3], [inf, 2, inf, 0, inf, inf, inf, inf], [inf, inf, 2, 2, 0, 7, inf, inf], [inf, inf, inf, inf, inf, 0, inf, 1], [inf, inf, 1, inf, inf, inf, 0, 2], [inf, inf, inf, inf, inf, inf, inf, 0]]\n"
     ]
    }
   ],
   "source": [
    "import math\n",
    "fread = open(\"session 3.txt\", \"r\") #netdata.txt\n",
    "G_v_e = fread.readline()\n",
    "G_v_e = G_v_e.split(' ') #change to \\t if tab spaced\n",
    "V = int(G_v_e[0])\n",
    "E = int(G_v_e[1].strip())\n",
    "V_list = list(range(0,V,1))\n",
    "lines = fread.readlines()\n",
    "A_dict = {}\n",
    "G_mat = [ [ 0 for i in range(4) ] for j in range(E) ]\n",
    "g = 0\n",
    "for line in lines:\n",
    "    t_h = line.split(' ') #change to \\t if tab spaced\n",
    "    G_mat[g][0] = int(t_h[0])\n",
    "    G_mat[g][1] = int(t_h[1])\n",
    "    G_mat[g][2] = int(t_h[2])\n",
    "    G_mat[g][3] = int(t_h[3].strip())\n",
    "    g += 1\n",
    "for i in range(E):\n",
    "    tail = G_mat[i][0]\n",
    "    head = G_mat[i][1]\n",
    "    if tail in A_dict.keys():\n",
    "        A_dict[tail].append(head)        \n",
    "    else:\n",
    "        A_dict[tail] = [head]\n",
    "\n",
    "cost = [[math.inf for i in range(V)] for j in range(V)]\n",
    "for i in range(V):\n",
    "    cost[i][i] = 0\n",
    "for i in range(E):\n",
    "    tail = G_mat[i][0]\n",
    "    head = G_mat[i][1]\n",
    "    cost[tail][head] = G_mat[i][2]\n",
    "\n",
    "print(G_mat, \"\\n\")\n",
    "print(A_dict)   \n",
    "print(cost)"
   ]
  },
  {
   "cell_type": "code",
   "execution_count": 59,
   "id": "1604ae77",
   "metadata": {},
   "outputs": [
    {
     "name": "stdout",
     "output_type": "stream",
     "text": [
      "[[0, 4, 7, 3, 5, 12, 10, 10], [inf, 0, 4, inf, inf, inf, 6, 7], [inf, inf, 0, inf, inf, inf, inf, 3], [inf, 2, 6, 0, inf, inf, 8, 9], [inf, 4, 2, 2, 0, 7, 10, 5], [inf, inf, inf, inf, inf, 0, inf, 1], [inf, inf, 1, inf, inf, inf, 0, 2], [inf, inf, inf, inf, inf, inf, inf, 0]]\n"
     ]
    }
   ],
   "source": [
    "#Algo 1 O(n^4)\n",
    "import copy\n",
    "def DP1(cost):\n",
    "    #print(\"cost\")\n",
    "    #print(cost)\n",
    "    D = copy.deepcopy(cost)\n",
    "    W  = copy.deepcopy(D)\n",
    "    for k in  range(V-2):\n",
    "        #print(k)\n",
    "        W_copy = copy.deepcopy(W)\n",
    "        for i in range(V):\n",
    "            for j in range(V):\n",
    "                for r in range(V):\n",
    "                    if (W_copy[i][j] > W[i][r] + D[r][j]):\n",
    "                        W_copy[i][j] = W[i][r] + D[r][j]\n",
    "        if (W_copy == W):\n",
    "            return W\n",
    "        else:\n",
    "            W = W_copy\n",
    "    #return W\n",
    "    \n",
    "\n",
    "min_cost_all = DP1(cost)\n",
    "print(min_cost_all)        "
   ]
  },
  {
   "cell_type": "code",
   "execution_count": 71,
   "id": "afb6d3a1",
   "metadata": {},
   "outputs": [
    {
     "name": "stdout",
     "output_type": "stream",
     "text": [
      "[[0, 4, 7, 3, 5, 12, 10, 10], [inf, 0, 4, inf, inf, inf, 6, 7], [inf, inf, 0, inf, inf, inf, inf, 3], [inf, 2, 6, 0, inf, inf, 8, 9], [inf, 4, 2, 2, 0, 7, 10, 5], [inf, inf, inf, inf, inf, 0, inf, 1], [inf, inf, 1, inf, inf, inf, 0, 2], [inf, inf, inf, inf, inf, inf, inf, 0]]\n",
      "[[0, 1], [1, 6]]\n"
     ]
    }
   ],
   "source": [
    "#Algo 2 Floyd Warshall O(n^3)\n",
    "def FloydWarshall(cost):\n",
    "    D = copy.deepcopy(cost)\n",
    "    path = [[]]*(V*V)\n",
    "    for i in range(V):\n",
    "        for j in range(V):\n",
    "            if (cost[i][j] != 0 and cost[i][j] != math.inf):\n",
    "                index = V*i + j\n",
    "                path[index] = [[i,j]]\n",
    "    for k in range(V):\n",
    "        for i in range(V):\n",
    "            if (i == k):\n",
    "                continue\n",
    "            for j in range(V):\n",
    "                if (j == k):\n",
    "                    continue\n",
    "                upd = False\n",
    "                if (D[i][j] > D[i][k] + D[k][j]):\n",
    "                    upd = True\n",
    "                D[i][j] = min(D[i][j], D[i][k] + D[k][j])\n",
    "                if (upd):\n",
    "                    index = V*i + j\n",
    "                    path[index] = path[V*i + k] + path[V*k + j]\n",
    "    return D, path\n",
    "\n",
    "min_cost_all, path = FloydWarshall(cost)\n",
    "print(min_cost_all)\n",
    "s = 0\n",
    "t = 6\n",
    "print(path[s*V + t])                           \n",
    "                "
   ]
  }
 ],
 "metadata": {
  "kernelspec": {
   "display_name": "Python 3",
   "language": "python",
   "name": "python3"
  },
  "language_info": {
   "codemirror_mode": {
    "name": "ipython",
    "version": 3
   },
   "file_extension": ".py",
   "mimetype": "text/x-python",
   "name": "python",
   "nbconvert_exporter": "python",
   "pygments_lexer": "ipython3",
   "version": "3.8.8"
  }
 },
 "nbformat": 4,
 "nbformat_minor": 5
}

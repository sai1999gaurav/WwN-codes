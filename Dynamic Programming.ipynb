{
 "cells": [
  {
   "cell_type": "code",
   "execution_count": 1,
   "id": "42e76c4d",
   "metadata": {},
   "outputs": [
    {
     "name": "stdout",
     "output_type": "stream",
     "text": [
      "[[0, 1, 1, 4], [0, 6, 2, 2], [0, 13, 7, 6], [1, 4, 3, 7], [2, 3, 14, 3], [2, 14, 7, 8], [2, 17, 7, 6], [3, 12, 2, 3], [4, 11, 6, 5], [5, 10, -6, 7], [6, 9, 9, 5], [6, 19, 4, 4], [7, 5, 5, 5], [8, 12, 2, 9], [9, 7, 4, 2], [10, 2, 8, 9], [10, 16, -2, 3], [11, 2, 3, 5], [11, 17, 3, 7], [12, 11, -15, 6], [12, 14, 7, 6], [13, 19, 1, 9], [14, 3, -15, 8], [14, 18, 9, 8], [15, 3, -12, 9], [15, 15, 7, 6], [16, 18, 4, 2], [17, 7, 7, 6], [18, 15, 1, 3], [18, 17, -12, 5], [19, 4, 4, 7], [19, 5, 5, 6], [19, 8, 13, 2], [19, 11, -3, 8]] \n",
      "\n",
      "{0: [1, 6, 13], 1: [4], 2: [3, 14, 17], 3: [12], 4: [11], 5: [10], 6: [9, 19], 7: [5], 8: [12], 9: [7], 10: [2, 16], 11: [2, 17], 12: [11, 14], 13: [19], 14: [3, 18], 15: [3, 15], 16: [18], 17: [7], 18: [15, 17], 19: [4, 5, 8, 11]}\n",
      "[[0, 1, inf, inf, inf, inf, 2, inf, inf, inf, inf, inf, inf, 7, inf, inf, inf, inf, inf, inf], [inf, 0, inf, inf, 3, inf, inf, inf, inf, inf, inf, inf, inf, inf, inf, inf, inf, inf, inf, inf], [inf, inf, 0, 14, inf, inf, inf, inf, inf, inf, inf, inf, inf, inf, 7, inf, inf, 7, inf, inf], [inf, inf, inf, 0, inf, inf, inf, inf, inf, inf, inf, inf, 2, inf, inf, inf, inf, inf, inf, inf], [inf, inf, inf, inf, 0, inf, inf, inf, inf, inf, inf, 6, inf, inf, inf, inf, inf, inf, inf, inf], [inf, inf, inf, inf, inf, 0, inf, inf, inf, inf, -6, inf, inf, inf, inf, inf, inf, inf, inf, inf], [inf, inf, inf, inf, inf, inf, 0, inf, inf, 9, inf, inf, inf, inf, inf, inf, inf, inf, inf, 4], [inf, inf, inf, inf, inf, 5, inf, 0, inf, inf, inf, inf, inf, inf, inf, inf, inf, inf, inf, inf], [inf, inf, inf, inf, inf, inf, inf, inf, 0, inf, inf, inf, 2, inf, inf, inf, inf, inf, inf, inf], [inf, inf, inf, inf, inf, inf, inf, 4, inf, 0, inf, inf, inf, inf, inf, inf, inf, inf, inf, inf], [inf, inf, 8, inf, inf, inf, inf, inf, inf, inf, 0, inf, inf, inf, inf, inf, -2, inf, inf, inf], [inf, inf, 3, inf, inf, inf, inf, inf, inf, inf, inf, 0, inf, inf, inf, inf, inf, 3, inf, inf], [inf, inf, inf, inf, inf, inf, inf, inf, inf, inf, inf, -15, 0, inf, 7, inf, inf, inf, inf, inf], [inf, inf, inf, inf, inf, inf, inf, inf, inf, inf, inf, inf, inf, 0, inf, inf, inf, inf, inf, 1], [inf, inf, inf, -15, inf, inf, inf, inf, inf, inf, inf, inf, inf, inf, 0, inf, inf, inf, 9, inf], [inf, inf, inf, -12, inf, inf, inf, inf, inf, inf, inf, inf, inf, inf, inf, 7, inf, inf, inf, inf], [inf, inf, inf, inf, inf, inf, inf, inf, inf, inf, inf, inf, inf, inf, inf, inf, 0, inf, 4, inf], [inf, inf, inf, inf, inf, inf, inf, 7, inf, inf, inf, inf, inf, inf, inf, inf, inf, 0, inf, inf], [inf, inf, inf, inf, inf, inf, inf, inf, inf, inf, inf, inf, inf, inf, inf, 1, inf, -12, 0, inf], [inf, inf, inf, inf, 4, 5, inf, inf, 13, inf, inf, -3, inf, inf, inf, inf, inf, inf, inf, 0]]\n"
     ]
    }
   ],
   "source": [
    "import math\n",
    "fread = open(\"net2.txt\", \"r\") #netdata.txt\n",
    "G_v_e = fread.readline()\n",
    "G_v_e = G_v_e.split(' ') #change to \\t if tab spaced\n",
    "V = int(G_v_e[0])\n",
    "E = int(G_v_e[1].strip())\n",
    "V_list = list(range(0,V,1))\n",
    "lines = fread.readlines()\n",
    "A_dict = {}\n",
    "G_mat = [ [ 0 for i in range(4) ] for j in range(E) ]\n",
    "g = 0\n",
    "for line in lines:\n",
    "    t_h = line.split(' ') #change to \\t if tab spaced\n",
    "    G_mat[g][0] = int(t_h[0])\n",
    "    G_mat[g][1] = int(t_h[1])\n",
    "    G_mat[g][2] = int(t_h[2])\n",
    "    G_mat[g][3] = int(t_h[3].strip())\n",
    "    g += 1\n",
    "for i in range(E):\n",
    "    tail = G_mat[i][0]\n",
    "    head = G_mat[i][1]\n",
    "    if tail in A_dict.keys():\n",
    "        A_dict[tail].append(head)        \n",
    "    else:\n",
    "        A_dict[tail] = [head]\n",
    "\n",
    "cost = [[math.inf for i in range(V)] for j in range(V)]\n",
    "for i in range(V):\n",
    "    cost[i][i] = 0\n",
    "for i in range(E):\n",
    "    tail = G_mat[i][0]\n",
    "    head = G_mat[i][1]\n",
    "    cost[tail][head] = G_mat[i][2]\n",
    "\n",
    "print(G_mat, \"\\n\")\n",
    "print(A_dict)   \n",
    "print(cost)"
   ]
  },
  {
   "cell_type": "code",
   "execution_count": 2,
   "id": "1604ae77",
   "metadata": {},
   "outputs": [
    {
     "name": "stdout",
     "output_type": "stream",
     "text": [
      "0\n",
      "0\n",
      "-60\n",
      "-60\n",
      "0\n",
      "-40\n",
      "0\n",
      "-40\n",
      "0\n",
      "0\n",
      "-40\n",
      "-60\n",
      "-60\n",
      "0\n",
      "-60\n",
      "-41\n",
      "-37\n",
      "-40\n",
      "-41\n",
      "0\n"
     ]
    }
   ],
   "source": [
    "#Algo 1 O(n^4)\n",
    "import copy\n",
    "def DP1(cost):\n",
    "    #print(\"cost\")\n",
    "    #print(cost)\n",
    "    D = copy.deepcopy(cost)\n",
    "    W  = copy.deepcopy(D)\n",
    "    for k in  range(V-2):\n",
    "        #print(k)\n",
    "        W_copy = copy.deepcopy(W)\n",
    "        for i in range(V):\n",
    "            for j in range(V):\n",
    "                for r in range(V):\n",
    "                    if (W_copy[i][j] > W[i][r] + D[r][j]):\n",
    "                        W_copy[i][j] = W[i][r] + D[r][j]\n",
    "        if (W_copy == W):\n",
    "            return W\n",
    "        else:\n",
    "            W = W_copy\n",
    "    return W\n",
    "    \n",
    "\n",
    "min_cost_all = DP1(cost)\n",
    "#print(min_cost_all)        \n",
    "for i in range(V):\n",
    "    print(min_cost_all[i][i])"
   ]
  },
  {
   "cell_type": "code",
   "execution_count": 3,
   "id": "ed9298d1",
   "metadata": {},
   "outputs": [
    {
     "ename": "IndexError",
     "evalue": "list index out of range",
     "output_type": "error",
     "traceback": [
      "\u001b[1;31m---------------------------------------------------------------------------\u001b[0m",
      "\u001b[1;31mIndexError\u001b[0m                                Traceback (most recent call last)",
      "\u001b[1;32m<ipython-input-3-98568665f10a>\u001b[0m in \u001b[0;36m<module>\u001b[1;34m\u001b[0m\n\u001b[0;32m      8\u001b[0m \u001b[0mrsum\u001b[0m \u001b[1;33m=\u001b[0m \u001b[1;36m0\u001b[0m\u001b[1;33m\u001b[0m\u001b[1;33m\u001b[0m\u001b[0m\n\u001b[0;32m      9\u001b[0m \u001b[1;32mfor\u001b[0m \u001b[0mt\u001b[0m \u001b[1;32min\u001b[0m \u001b[0mrange\u001b[0m\u001b[1;33m(\u001b[0m\u001b[1;36m4\u001b[0m\u001b[1;33m)\u001b[0m\u001b[1;33m:\u001b[0m\u001b[1;33m\u001b[0m\u001b[1;33m\u001b[0m\u001b[0m\n\u001b[1;32m---> 10\u001b[1;33m     \u001b[0mrsum\u001b[0m \u001b[1;33m=\u001b[0m \u001b[0mrsum\u001b[0m \u001b[1;33m+\u001b[0m \u001b[0mmin_cost_all\u001b[0m\u001b[1;33m[\u001b[0m\u001b[0mr\u001b[0m\u001b[1;33m[\u001b[0m\u001b[0mt\u001b[0m\u001b[1;33m]\u001b[0m\u001b[1;33m]\u001b[0m\u001b[1;33m[\u001b[0m\u001b[0mr\u001b[0m\u001b[1;33m[\u001b[0m\u001b[0mt\u001b[0m\u001b[1;33m+\u001b[0m\u001b[1;36m1\u001b[0m\u001b[1;33m]\u001b[0m\u001b[1;33m]\u001b[0m\u001b[1;33m\u001b[0m\u001b[1;33m\u001b[0m\u001b[0m\n\u001b[0m\u001b[0;32m     11\u001b[0m \u001b[0mprint\u001b[0m\u001b[1;33m(\u001b[0m\u001b[0mrsum\u001b[0m\u001b[1;33m)\u001b[0m\u001b[1;33m\u001b[0m\u001b[1;33m\u001b[0m\u001b[0m\n\u001b[0;32m     12\u001b[0m \u001b[1;33m\u001b[0m\u001b[0m\n",
      "\u001b[1;31mIndexError\u001b[0m: list index out of range"
     ]
    }
   ],
   "source": [
    "mid = [27, 32, 58]\n",
    "s = 10\n",
    "t = 80\n",
    "i = 2\n",
    "j = 1\n",
    "k = 0\n",
    "r = [s, mid[i], mid[j], mid[k], t]\n",
    "rsum = 0\n",
    "for t in range(4):\n",
    "    rsum = rsum + min_cost_all[r[t]][r[t+1]]\n",
    "print(rsum)\n",
    "                "
   ]
  },
  {
   "cell_type": "code",
   "execution_count": 4,
   "id": "afb6d3a1",
   "metadata": {},
   "outputs": [
    {
     "name": "stdout",
     "output_type": "stream",
     "text": [
      "-36\n",
      "[[0, 6], [6, 19], [19, 11], [11, 2], [2, 14], [14, 3], [3, 12], [12, 11], [11, 17], [17, 7], [7, 5], [5, 10], [10, 16], [16, 18], [18, 15], [15, 3], [3, 12], [12, 11], [11, 2], [2, 14], [14, 3], [3, 12], [12, 11], [11, 17], [17, 7]]\n"
     ]
    }
   ],
   "source": [
    "#Algo 2 Floyd Warshall O(n^3)\n",
    "import copy\n",
    "def FloydWarshall(cost):\n",
    "    D = copy.deepcopy(cost)\n",
    "    path = [[]]*(V*V)\n",
    "    for i in range(V):\n",
    "        for j in range(V):\n",
    "            if ((i != j) and cost[i][j] != math.inf):\n",
    "                index = V*i + j\n",
    "                path[index] = [[i,j]]\n",
    "    for k in range(V):\n",
    "        for i in range(V):\n",
    "            if (i == k):\n",
    "                continue\n",
    "            for j in range(V):\n",
    "                if (j == k):\n",
    "                    continue\n",
    "                upd = False\n",
    "                if (D[i][j] > D[i][k] + D[k][j]):\n",
    "                    upd = True\n",
    "                D[i][j] = min(D[i][j], D[i][k] + D[k][j])\n",
    "                if (upd):\n",
    "                    index = V*i + j\n",
    "                    path[index] = path[V*i + k] + path[V*k + j]\n",
    "    return D, path\n",
    "\n",
    "min_cost_all, path = FloydWarshall(cost)\n",
    "#print(min_cost_all)\n",
    "s = 0\n",
    "t = 7\n",
    "print(min_cost_all[s][t])\n",
    "print(path[s*V + t])                           \n",
    "                "
   ]
  },
  {
   "cell_type": "code",
   "execution_count": 5,
   "id": "5931b3ac",
   "metadata": {},
   "outputs": [
    {
     "name": "stdout",
     "output_type": "stream",
     "text": [
      "-35\n"
     ]
    }
   ],
   "source": [
    "print(min_cost_all[7][7])"
   ]
  },
  {
   "cell_type": "code",
   "execution_count": 6,
   "id": "172f2104",
   "metadata": {},
   "outputs": [],
   "source": [
    "def cost_check(path, cost):\n",
    "    pint = path[0]\n",
    "    s1 = pint[0]\n",
    "    c_cost = cost[s1][pint[1]]\n",
    "    for i in range(1, len(path)):\n",
    "        c_cost = c_cost + cost[path[i][0]][path[i][1]]\n",
    "        if (path[i][1] == s1):\n",
    "            break\n",
    "    return c_cost, i\n",
    "            "
   ]
  },
  {
   "cell_type": "code",
   "execution_count": 7,
   "id": "0dcca459",
   "metadata": {},
   "outputs": [
    {
     "name": "stdout",
     "output_type": "stream",
     "text": [
      "2   -53\n",
      "[[2, 14], [14, 3], [3, 12], [12, 11], [11, 17], [17, 7], [7, 5], [5, 10], [10, 16], [16, 18], [18, 15], [15, 3], [3, 12], [12, 11], [11, 2], [2, 14], [14, 3], [3, 12], [12, 11], [11, 17], [17, 7], [7, 5], [5, 10], [10, 2], [2, 14], [14, 3], [3, 12], [12, 11], [11, 2]]\n",
      "2   -31\n",
      "2   14\n",
      " \n",
      "3   -53\n",
      "[[3, 12], [12, 11], [11, 2], [2, 14], [14, 3], [3, 12], [12, 11], [11, 17], [17, 7], [7, 5], [5, 10], [10, 16], [16, 18], [18, 15], [15, 3], [3, 12], [12, 11], [11, 2], [2, 14], [14, 3], [3, 12], [12, 11], [11, 17], [17, 7], [7, 5], [5, 10], [10, 2], [2, 14], [14, 3]]\n",
      "3   -18\n",
      "3   4\n",
      " \n",
      "5   -35\n",
      "[[5, 10], [10, 2], [2, 14], [14, 3], [3, 12], [12, 11], [11, 17], [17, 7], [7, 5], [5, 10], [10, 16], [16, 18], [18, 15], [15, 3], [3, 12], [12, 11], [11, 2], [2, 14], [14, 3], [3, 12], [12, 11], [11, 17], [17, 7], [7, 5]]\n",
      "5   -4\n",
      "5   8\n",
      " \n",
      "7   -35\n",
      "[[7, 5], [5, 10], [10, 2], [2, 14], [14, 3], [3, 12], [12, 11], [11, 17], [17, 7], [7, 5], [5, 10], [10, 16], [16, 18], [18, 15], [15, 3], [3, 12], [12, 11], [11, 2], [2, 14], [14, 3], [3, 12], [12, 11], [11, 17], [17, 7]]\n",
      "7   -4\n",
      "7   8\n",
      " \n",
      "10   -35\n",
      "[[10, 2], [2, 14], [14, 3], [3, 12], [12, 11], [11, 17], [17, 7], [7, 5], [5, 10], [10, 16], [16, 18], [18, 15], [15, 3], [3, 12], [12, 11], [11, 2], [2, 14], [14, 3], [3, 12], [12, 11], [11, 17], [17, 7], [7, 5], [5, 10]]\n",
      "10   -4\n",
      "10   8\n",
      " \n",
      "11   -53\n",
      "[[11, 2], [2, 14], [14, 3], [3, 12], [12, 11], [11, 17], [17, 7], [7, 5], [5, 10], [10, 16], [16, 18], [18, 15], [15, 3], [3, 12], [12, 11], [11, 2], [2, 14], [14, 3], [3, 12], [12, 11], [11, 17], [17, 7], [7, 5], [5, 10], [10, 2], [2, 14], [14, 3], [3, 12], [12, 11]]\n",
      "11   -18\n",
      "11   4\n",
      " \n",
      "12   -53\n",
      "[[12, 11], [11, 2], [2, 14], [14, 3], [3, 12], [12, 11], [11, 17], [17, 7], [7, 5], [5, 10], [10, 16], [16, 18], [18, 15], [15, 3], [3, 12], [12, 11], [11, 2], [2, 14], [14, 3], [3, 12], [12, 11], [11, 17], [17, 7], [7, 5], [5, 10], [10, 2], [2, 14], [14, 3], [3, 12]]\n",
      "12   -18\n",
      "12   4\n",
      " \n",
      "14   -35\n",
      "[[14, 3], [3, 12], [12, 11], [11, 17], [17, 7], [7, 5], [5, 10], [10, 16], [16, 18], [18, 15], [15, 3], [3, 12], [12, 11], [11, 2], [2, 14], [14, 3], [3, 12], [12, 11], [11, 17], [17, 7], [7, 5], [5, 10], [10, 2], [2, 14]]\n",
      "14   -31\n",
      "14   14\n",
      " \n",
      "15   -31\n",
      "[[15, 3], [3, 12], [12, 11], [11, 2], [2, 14], [14, 3], [3, 12], [12, 11], [11, 17], [17, 7], [7, 5], [5, 10], [10, 16], [16, 18], [18, 15]]\n",
      "15   -31\n",
      "15   14\n",
      " \n",
      "16   -31\n",
      "[[16, 18], [18, 15], [15, 3], [3, 12], [12, 11], [11, 2], [2, 14], [14, 3], [3, 12], [12, 11], [11, 17], [17, 7], [7, 5], [5, 10], [10, 16]]\n",
      "16   -31\n",
      "16   14\n",
      " \n",
      "17   -31\n",
      "[[17, 7], [7, 5], [5, 10], [10, 16], [16, 18], [18, 15], [15, 3], [3, 12], [12, 11], [11, 2], [2, 14], [14, 3], [3, 12], [12, 11], [11, 17]]\n",
      "17   -31\n",
      "17   14\n",
      " \n",
      "18   -31\n",
      "[[18, 15], [15, 3], [3, 12], [12, 11], [11, 2], [2, 14], [14, 3], [3, 12], [12, 11], [11, 17], [17, 7], [7, 5], [5, 10], [10, 16], [16, 18]]\n",
      "18   -31\n",
      "18   14\n",
      " \n"
     ]
    }
   ],
   "source": [
    "import math\n",
    "for i in range(V):\n",
    "    if (min_cost_all[i][i] < 0):\n",
    "        print(i, ' ', min_cost_all[i][i])\n",
    "        print(path[i*V + i])\n",
    "        c_cost, l_p = cost_check(path[i*V + i], cost)\n",
    "        print(i, ' ', c_cost)\n",
    "        print(i, ' ', l_p)\n",
    "        print(' ')\n",
    "    "
   ]
  },
  {
   "cell_type": "code",
   "execution_count": 8,
   "id": "5c7157f9",
   "metadata": {},
   "outputs": [
    {
     "name": "stdout",
     "output_type": "stream",
     "text": [
      "0   0\n",
      "[]\n",
      "1   0\n",
      "[]\n",
      "2   -53\n",
      "[[2, 14], [14, 3], [3, 12], [12, 11], [11, 17], [17, 7], [7, 5], [5, 10], [10, 16], [16, 18], [18, 15], [15, 3], [3, 12], [12, 11], [11, 2], [2, 14], [14, 3], [3, 12], [12, 11], [11, 17], [17, 7], [7, 5], [5, 10], [10, 2], [2, 14], [14, 3], [3, 12], [12, 11], [11, 2]]\n",
      "3   -53\n",
      "[[3, 12], [12, 11], [11, 2], [2, 14], [14, 3], [3, 12], [12, 11], [11, 17], [17, 7], [7, 5], [5, 10], [10, 16], [16, 18], [18, 15], [15, 3], [3, 12], [12, 11], [11, 2], [2, 14], [14, 3], [3, 12], [12, 11], [11, 17], [17, 7], [7, 5], [5, 10], [10, 2], [2, 14], [14, 3]]\n",
      "4   0\n",
      "[]\n",
      "5   -35\n",
      "[[5, 10], [10, 2], [2, 14], [14, 3], [3, 12], [12, 11], [11, 17], [17, 7], [7, 5], [5, 10], [10, 16], [16, 18], [18, 15], [15, 3], [3, 12], [12, 11], [11, 2], [2, 14], [14, 3], [3, 12], [12, 11], [11, 17], [17, 7], [7, 5]]\n",
      "6   0\n",
      "[]\n",
      "7   -35\n",
      "[[7, 5], [5, 10], [10, 2], [2, 14], [14, 3], [3, 12], [12, 11], [11, 17], [17, 7], [7, 5], [5, 10], [10, 16], [16, 18], [18, 15], [15, 3], [3, 12], [12, 11], [11, 2], [2, 14], [14, 3], [3, 12], [12, 11], [11, 17], [17, 7]]\n",
      "8   0\n",
      "[]\n",
      "9   0\n",
      "[]\n",
      "10   -35\n",
      "[[10, 2], [2, 14], [14, 3], [3, 12], [12, 11], [11, 17], [17, 7], [7, 5], [5, 10], [10, 16], [16, 18], [18, 15], [15, 3], [3, 12], [12, 11], [11, 2], [2, 14], [14, 3], [3, 12], [12, 11], [11, 17], [17, 7], [7, 5], [5, 10]]\n",
      "11   -53\n",
      "[[11, 2], [2, 14], [14, 3], [3, 12], [12, 11], [11, 17], [17, 7], [7, 5], [5, 10], [10, 16], [16, 18], [18, 15], [15, 3], [3, 12], [12, 11], [11, 2], [2, 14], [14, 3], [3, 12], [12, 11], [11, 17], [17, 7], [7, 5], [5, 10], [10, 2], [2, 14], [14, 3], [3, 12], [12, 11]]\n",
      "12   -53\n",
      "[[12, 11], [11, 2], [2, 14], [14, 3], [3, 12], [12, 11], [11, 17], [17, 7], [7, 5], [5, 10], [10, 16], [16, 18], [18, 15], [15, 3], [3, 12], [12, 11], [11, 2], [2, 14], [14, 3], [3, 12], [12, 11], [11, 17], [17, 7], [7, 5], [5, 10], [10, 2], [2, 14], [14, 3], [3, 12]]\n",
      "13   0\n",
      "[]\n",
      "14   -35\n",
      "[[14, 3], [3, 12], [12, 11], [11, 17], [17, 7], [7, 5], [5, 10], [10, 16], [16, 18], [18, 15], [15, 3], [3, 12], [12, 11], [11, 2], [2, 14], [14, 3], [3, 12], [12, 11], [11, 17], [17, 7], [7, 5], [5, 10], [10, 2], [2, 14]]\n",
      "15   -31\n",
      "[[15, 3], [3, 12], [12, 11], [11, 2], [2, 14], [14, 3], [3, 12], [12, 11], [11, 17], [17, 7], [7, 5], [5, 10], [10, 16], [16, 18], [18, 15]]\n",
      "16   -31\n",
      "[[16, 18], [18, 15], [15, 3], [3, 12], [12, 11], [11, 2], [2, 14], [14, 3], [3, 12], [12, 11], [11, 17], [17, 7], [7, 5], [5, 10], [10, 16]]\n",
      "17   -31\n",
      "[[17, 7], [7, 5], [5, 10], [10, 16], [16, 18], [18, 15], [15, 3], [3, 12], [12, 11], [11, 2], [2, 14], [14, 3], [3, 12], [12, 11], [11, 17]]\n",
      "18   -31\n",
      "[[18, 15], [15, 3], [3, 12], [12, 11], [11, 2], [2, 14], [14, 3], [3, 12], [12, 11], [11, 17], [17, 7], [7, 5], [5, 10], [10, 16], [16, 18]]\n",
      "19   0\n",
      "[]\n"
     ]
    }
   ],
   "source": [
    "for i in range(V):\n",
    "    print(i, ' ', min_cost_all[i][i])\n",
    "    print(path[i*V + i])\n",
    "    #c_cost, l_p = cost_check(path[i*V + i], cost)\n",
    "    #print(i, ' ', c_cost)\n",
    "    #print(i, ' ', l_p)\n",
    "    #print(' ')"
   ]
  },
  {
   "cell_type": "code",
   "execution_count": null,
   "id": "948eadf4",
   "metadata": {},
   "outputs": [],
   "source": []
  },
  {
   "cell_type": "code",
   "execution_count": null,
   "id": "20393ab0",
   "metadata": {},
   "outputs": [],
   "source": []
  }
 ],
 "metadata": {
  "kernelspec": {
   "display_name": "Python 3",
   "language": "python",
   "name": "python3"
  },
  "language_info": {
   "codemirror_mode": {
    "name": "ipython",
    "version": 3
   },
   "file_extension": ".py",
   "mimetype": "text/x-python",
   "name": "python",
   "nbconvert_exporter": "python",
   "pygments_lexer": "ipython3",
   "version": "3.8.8"
  }
 },
 "nbformat": 4,
 "nbformat_minor": 5
}

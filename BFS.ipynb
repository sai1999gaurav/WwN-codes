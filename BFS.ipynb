{
 "cells": [
  {
   "cell_type": "code",
   "execution_count": 1,
   "id": "d27032f2",
   "metadata": {},
   "outputs": [],
   "source": [
    "#create graph\n",
    "import numpy as np\n",
    "fread = open(\"Quiz1_4.txt\", \"r\")\n",
    "G_v_e = fread.readline()\n",
    "G_v_e = G_v_e.split(' ') #modify to \"\\t\" based on input\n",
    "V = int(G_v_e[0])\n",
    "E = int(G_v_e[1].strip())"
   ]
  },
  {
   "cell_type": "code",
   "execution_count": 2,
   "id": "88d7310a",
   "metadata": {},
   "outputs": [
    {
     "name": "stdout",
     "output_type": "stream",
     "text": [
      "{0: [1], 1: [5], 3: [11], 4: [0, 14], 5: [2], 6: [2], 7: [3, 10], 8: [0], 9: [6, 7], 10: [3, 9], 11: [4, 7], 12: [3, 5, 8], 13: [11], 14: [12]}\n"
     ]
    }
   ],
   "source": [
    "V_list = list(range(0,V,1))\n",
    "lines = fread.readlines()\n",
    "A_dict = {}\n",
    "for line in lines:\n",
    "    t_h = line.split(' ') #modify to \"\\t\" based on input\n",
    "    tail = int(t_h[0])\n",
    "    head = int(t_h[1].strip())\n",
    "    if tail in A_dict.keys():\n",
    "        A_dict[tail].append(head)        \n",
    "    else:\n",
    "        A_dict[tail] = [head]\n",
    "print(A_dict)"
   ]
  },
  {
   "cell_type": "code",
   "execution_count": 1,
   "id": "e0a5d1d8",
   "metadata": {},
   "outputs": [
    {
     "name": "stdout",
     "output_type": "stream",
     "text": [
      "[[0, 5, 179, 1], [1, 3, 40, 1], [1, 10, 12, 1], [1, 17, 83, 1], [1, 20, 170, 1], [2, 7, 135, 1], [2, 12, 190, 1], [3, 1, 149, 1], [3, 10, 176, 1], [3, 17, 177, 1], [3, 20, 96, 1], [4, 7, 29, 1], [5, 21, 38, 1], [6, 14, 76, 1], [6, 23, 185, 1], [6, 24, 117, 1], [7, 9, 191, 1], [7, 12, 174, 1], [9, 8, 166, 1], [9, 12, 158, 1], [10, 3, 116, 1], [10, 17, 88, 1], [10, 20, 181, 1], [12, 16, 78, 1], [13, 2, 113, 1], [13, 4, 102, 1], [13, 16, 43, 1], [13, 19, 20, 1], [14, 0, 151, 1], [15, 1, 161, 1], [15, 3, 123, 1], [15, 10, 15, 1], [16, 7, 87, 1], [16, 11, 71, 1], [16, 19, 55, 1], [17, 1, 77, 1], [17, 3, 45, 1], [17, 10, 188, 1], [17, 15, 124, 1], [17, 20, 79, 1], [18, 6, 150, 1], [18, 14, 120, 1], [19, 2, 41, 1], [19, 4, 160, 1], [19, 8, 42, 1], [19, 9, 44, 1], [19, 11, 10, 1], [20, 10, 21, 1], [21, 0, 84, 1], [21, 6, 50, 1], [21, 18, 54, 1], [21, 22, 46, 1], [21, 24, 119, 1], [22, 0, 14, 1], [22, 6, 199, 1], [22, 18, 34, 1], [23, 5, 165, 1], [23, 14, 73, 1], [24, 6, 114, 1], [24, 18, 17, 1]] \n",
      "\n",
      "{0: [5], 1: [3, 10, 17, 20], 2: [7, 12], 3: [1, 10, 17, 20], 4: [7], 5: [21], 6: [14, 23, 24], 7: [9, 12], 9: [8, 12], 10: [3, 17, 20], 12: [16], 13: [2, 4, 16, 19], 14: [0], 15: [1, 3, 10], 16: [7, 11, 19], 17: [1, 3, 10, 15, 20], 18: [6, 14], 19: [2, 4, 8, 9, 11], 20: [10], 21: [0, 6, 18, 22, 24], 22: [0, 6, 18], 23: [5, 14], 24: [6, 18]}\n"
     ]
    }
   ],
   "source": [
    "# Netdata.txt type input\n",
    "fread = open(\"netdata.txt\", \"r\") #netdata.txt\n",
    "G_v_e = fread.readline()\n",
    "G_v_e = G_v_e.split(' ')\n",
    "V = int(G_v_e[0])\n",
    "E = int(G_v_e[1].strip())\n",
    "V_list = list(range(0,V,1))\n",
    "lines = fread.readlines()\n",
    "A_dict = {}\n",
    "G_mat = [ [ 0 for i in range(4) ] for j in range(E) ]\n",
    "g = 0\n",
    "for line in lines:\n",
    "    t_h = line.split(' ')\n",
    "    G_mat[g][0] = int(t_h[0])\n",
    "    G_mat[g][1] = int(t_h[1])\n",
    "    G_mat[g][2] = int(t_h[2])\n",
    "    G_mat[g][3] = int(t_h[3].strip())\n",
    "    g += 1\n",
    "for i in range(E):\n",
    "    tail = G_mat[i][0]\n",
    "    head = G_mat[i][1]\n",
    "    if tail in A_dict.keys():\n",
    "        A_dict[tail].append(head)        \n",
    "    else:\n",
    "        A_dict[tail] = [head]\n",
    "print(G_mat, \"\\n\")\n",
    "print(A_dict)   "
   ]
  },
  {
   "cell_type": "code",
   "execution_count": 2,
   "id": "44545f13",
   "metadata": {},
   "outputs": [
    {
     "data": {
      "text/plain": [
       "25"
      ]
     },
     "execution_count": 2,
     "metadata": {},
     "output_type": "execute_result"
    }
   ],
   "source": [
    "len(V_list)"
   ]
  },
  {
   "cell_type": "code",
   "execution_count": 3,
   "id": "b3e12796",
   "metadata": {},
   "outputs": [],
   "source": [
    "def remove(original, visited):\n",
    "    modified = original.copy()\n",
    "    for i in visited:\n",
    "        try: \n",
    "            modified.remove(i)\n",
    "        except ValueError:\n",
    "            pass\n",
    "    return modified"
   ]
  },
  {
   "cell_type": "code",
   "execution_count": 4,
   "id": "b09fe136",
   "metadata": {},
   "outputs": [
    {
     "name": "stdout",
     "output_type": "stream",
     "text": [
      "{0: [5], 1: [3, 10, 17, 20], 2: [7, 12], 3: [1, 10, 17, 20], 4: [7], 5: [21], 6: [14, 23, 24], 7: [9, 12], 9: [8, 12], 10: [3, 17, 20], 12: [16], 13: [2, 4, 16, 19], 14: [0], 15: [1, 3, 10], 16: [7, 11, 19], 17: [1, 3, 10, 15, 20], 18: [6, 14], 19: [2, 4, 8, 9, 11], 20: [10], 21: [0, 6, 18, 22, 24], 22: [0, 6, 18], 23: [5, 14], 24: [6, 18]}\n"
     ]
    }
   ],
   "source": [
    "print(A_dict)"
   ]
  },
  {
   "cell_type": "code",
   "execution_count": 5,
   "id": "ccd88cb1",
   "metadata": {},
   "outputs": [],
   "source": [
    "def common(original, unseen):\n",
    "    modified = []\n",
    "    for i in unseen:\n",
    "        if i in original:\n",
    "            modified.append(i)\n",
    "    return modified"
   ]
  },
  {
   "cell_type": "code",
   "execution_count": 6,
   "id": "6dea3c5f",
   "metadata": {},
   "outputs": [
    {
     "name": "stdout",
     "output_type": "stream",
     "text": [
      "[12, 16, 7, 11, 19, 9, 2, 4, 8]\n",
      "[0, 1, 3, 5, 6, 10, 13, 14, 15, 17, 18, 20, 21, 22, 23, 24]  nodes can't be reached\n",
      "{12: 0, 16: 1, 7: 2, 11: 2, 19: 2, 9: 3, 2: 3, 4: 3, 8: 3}\n"
     ]
    }
   ],
   "source": [
    "#BFS\n",
    "s = 12\n",
    "active = [s]\n",
    "unseen = remove(V_list, active)\n",
    "traversal = active.copy()\n",
    "#print(unseen)\n",
    "arc_dict = {}\n",
    "arc_dict[s] = 0\n",
    "while ((len(active) != 0) and (unseen != None)):\n",
    "    j = active[0]\n",
    "    if (len(active) == 1):\n",
    "        active = []\n",
    "    else:\n",
    "        active = remove(active, [j])\n",
    "    if (j not in A_dict.keys()):\n",
    "        continue\n",
    "    new_v_list = common(A_dict[j], unseen)\n",
    "    for i in new_v_list:\n",
    "        if i not in arc_dict.keys():\n",
    "            arc_dict[i] = arc_dict[j] + 1\n",
    "    unseen = remove(unseen, new_v_list)\n",
    "    traversal.extend(new_v_list)\n",
    "    if (len(active) == 0):\n",
    "        active = new_v_list.copy()\n",
    "    else:\n",
    "        active.extend(new_v_list)\n",
    "if (unseen == None):\n",
    "    print(traversal)\n",
    "else:\n",
    "    print(traversal)\n",
    "    print(unseen, \" nodes can't be reached\")\n",
    "print(arc_dict)"
   ]
  },
  {
   "cell_type": "code",
   "execution_count": 7,
   "id": "0a2beb6f",
   "metadata": {},
   "outputs": [],
   "source": [
    "fread.close()"
   ]
  },
  {
   "cell_type": "code",
   "execution_count": 13,
   "id": "08c940a8",
   "metadata": {},
   "outputs": [
    {
     "name": "stdout",
     "output_type": "stream",
     "text": [
      "[0, 5, 21, 6, 18, 22, 24, 14, 23]\n"
     ]
    }
   ],
   "source": [
    "# BFS_queue\n",
    "def bfs_queue(visited, graph, node, queue): #function for BFS\n",
    "    visited.append(node)\n",
    "    queue.append(node)\n",
    "    \n",
    "    while queue:          # Creating loop to visit each node\n",
    "        m = queue.pop(0) \n",
    "        #print (m, end = \" \") \n",
    "        if (m not in graph.keys()):\n",
    "            continue\n",
    "        for neighbour in graph[m]:\n",
    "            if neighbour not in visited:\n",
    "                visited.append(neighbour)\n",
    "                queue.append(neighbour)\n",
    "visited = []\n",
    "bfs_queue(visited, A_dict,0, [])\n",
    "print(visited)"
   ]
  },
  {
   "cell_type": "code",
   "execution_count": 11,
   "id": "22f14a5a",
   "metadata": {},
   "outputs": [],
   "source": [
    "# BFS undirected\n",
    "fread = open(\"directed graph.txt\", \"r\")\n",
    "lines = fread.readlines()\n",
    "B_dict = {}\n",
    "i = 0\n",
    "for line in lines:\n",
    "    if (i == 0):\n",
    "        i = 1\n",
    "        continue\n",
    "    t_h = line.split(' ') #modify to \"\\t\" based on input\n",
    "    tail = int(t_h[0])\n",
    "    head = int(t_h[1].strip())\n",
    "    if tail in B_dict.keys():\n",
    "        B_dict[tail].append(head)       \n",
    "    else:\n",
    "        B_dict[tail] = [head]\n",
    "    if head in B_dict.keys():\n",
    "        B_dict[head].append(tail)       \n",
    "    else:\n",
    "        B_dict[head] = [tail]\n",
    "#print(B_dict)"
   ]
  },
  {
   "cell_type": "code",
   "execution_count": 14,
   "id": "571c69bf",
   "metadata": {},
   "outputs": [
    {
     "name": "stdout",
     "output_type": "stream",
     "text": [
      "[0, 1, 3, 4, 2, 6, 5]\n",
      "[7, 8, 9, 10, 11, 12, 13, 14, 15, 16, 17, 18, 19, 20, 21, 22, 23, 24]  nodes can't be reached\n",
      "[0, 1, 3, 4, 2, 6, 5]\n"
     ]
    }
   ],
   "source": [
    "#Method_WwN\n",
    "s = 0\n",
    "active = [s]\n",
    "unseen = remove(V_list, active)\n",
    "traversal = active.copy()\n",
    "#print(unseen)\n",
    "while ((len(active) != 0) and (unseen != None)):\n",
    "    j = active[0]\n",
    "    if (len(active) == 1):\n",
    "        active = []\n",
    "    else:\n",
    "        active = remove(active, [j])\n",
    "    if (j not in B_dict.keys()):\n",
    "        continue\n",
    "    new_v_list = common(B_dict[j], unseen)\n",
    "    unseen = remove(unseen, new_v_list)\n",
    "    traversal.extend(new_v_list)\n",
    "    if (len(active) == 0):\n",
    "        active = new_v_list.copy()\n",
    "    else:\n",
    "        active.extend(new_v_list)\n",
    "if (unseen == None):\n",
    "    print(traversal)\n",
    "else:\n",
    "    print(traversal)\n",
    "    print(unseen, \" nodes can't be reached\")\n",
    "\n",
    "#Method_2\n",
    "traversal_2 = []\n",
    "bfs_queue(traversal_2, B_dict,0, [])\n",
    "print(traversal_2)"
   ]
  },
  {
   "cell_type": "code",
   "execution_count": 15,
   "id": "26987487",
   "metadata": {},
   "outputs": [],
   "source": [
    "fread.close()"
   ]
  },
  {
   "cell_type": "code",
   "execution_count": null,
   "id": "c7c96731",
   "metadata": {},
   "outputs": [],
   "source": []
  }
 ],
 "metadata": {
  "kernelspec": {
   "display_name": "Python 3",
   "language": "python",
   "name": "python3"
  },
  "language_info": {
   "codemirror_mode": {
    "name": "ipython",
    "version": 3
   },
   "file_extension": ".py",
   "mimetype": "text/x-python",
   "name": "python",
   "nbconvert_exporter": "python",
   "pygments_lexer": "ipython3",
   "version": "3.8.8"
  }
 },
 "nbformat": 4,
 "nbformat_minor": 5
}

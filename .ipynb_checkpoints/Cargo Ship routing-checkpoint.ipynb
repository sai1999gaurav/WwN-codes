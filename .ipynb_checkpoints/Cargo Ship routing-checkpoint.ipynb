{
 "cells": [
  {
   "cell_type": "code",
   "execution_count": 3,
   "id": "42e76c4d",
   "metadata": {},
   "outputs": [],
   "source": [
    "import math\n",
    "import copy"
   ]
  },
  {
   "cell_type": "code",
   "execution_count": 15,
   "id": "c3dd5fbd",
   "metadata": {},
   "outputs": [
    {
     "name": "stdout",
     "output_type": "stream",
     "text": [
      "[[0, 1, 200, 30], [1, 0, 150, 20], [0, 2, 200, 35], [1, 2, 100, 20], [2, 1, 250, 40], [1, 4, 300, 40], [2, 3, 225, 50], [3, 2, 350, 40], [3, 4, 275, 25], [4, 0, 200, 40], [4, 2, 250, 35]] \n",
      "\n",
      "{0: [1, 2], 1: [0, 2, 4], 2: [1, 3], 3: [2, 4], 4: [0, 2]}\n",
      "[[inf, 0.15, 0.175, inf, inf], [0.13333333333333333, inf, 0.2, inf, 0.13333333333333333], [inf, 0.16, inf, 0.2222222222222222, inf], [inf, inf, 0.11428571428571428, inf, 0.09090909090909091], [0.2, inf, 0.14, inf, inf]]\n"
     ]
    }
   ],
   "source": [
    "fread = open(\"Q2Q2.txt\", \"r\") #netdata.txt\n",
    "G_v_e = fread.readline()\n",
    "G_v_e = G_v_e.split('\\t') #change to \\t if tab spaced\n",
    "V = int(G_v_e[0])\n",
    "E = int(G_v_e[1].strip())\n",
    "V_list = list(range(0,V,1))\n",
    "lines = fread.readlines()\n",
    "A_dict = {}\n",
    "G_mat = [ [ 0 for i in range(4) ] for j in range(E) ]\n",
    "g = 0\n",
    "for line in lines:\n",
    "    t_h = line.split('\\t') #change to \\t if tab spaced\n",
    "    G_mat[g][0] = int(t_h[0])\n",
    "    G_mat[g][1] = int(t_h[1])\n",
    "    G_mat[g][2] = int(t_h[2])\n",
    "    G_mat[g][3] = int(t_h[3].strip())\n",
    "    g += 1\n",
    "for i in range(E):\n",
    "    tail = G_mat[i][0]\n",
    "    head = G_mat[i][1]\n",
    "    if tail in A_dict.keys():\n",
    "        A_dict[tail].append(head)        \n",
    "    else:\n",
    "        A_dict[tail] = [head]\n",
    "\n",
    "cost = [[math.inf for i in range(V)] for j in range(V)]\n",
    "ratio = [[0 for i in range(V)] for j in range(V)]\n",
    "time = [[math.inf for i in range(V)] for j in range(V)]\n",
    "profit = [[math.inf for i in range(V)] for j in range(V)]\n",
    "for i in range(E):\n",
    "    tail = G_mat[i][0]\n",
    "    head = G_mat[i][1]\n",
    "    cost[tail][head] = G_mat[i][3]/G_mat[i][2]\n",
    "    ratio[tail][head] = G_mat[i][2]/G_mat[i][3]\n",
    "    time[tail][head] = G_mat[i][3]\n",
    "    profit[tail][head] = G_mat[i][2]\n",
    "\n",
    "print(G_mat, \"\\n\")\n",
    "print(A_dict)   \n",
    "print(cost)\n",
    "fread.close()"
   ]
  },
  {
   "cell_type": "code",
   "execution_count": 16,
   "id": "6f7c2950",
   "metadata": {},
   "outputs": [
    {
     "name": "stdout",
     "output_type": "stream",
     "text": [
      "0.2833333333333333\n",
      "[[0, 1], [1, 4]]\n"
     ]
    }
   ],
   "source": [
    "#Algo 2 Floyd Warshall O(n^3)\n",
    "def FloydWarshall(cost):\n",
    "    D = copy.deepcopy(cost)\n",
    "    path = [[]]*(V*V)\n",
    "    for i in range(V):\n",
    "        for j in range(V):\n",
    "            if ((i != j) and cost[i][j] != math.inf):\n",
    "                index = V*i + j\n",
    "                path[index] = [[i,j]]\n",
    "    for k in range(V):\n",
    "        for i in range(V):\n",
    "            if (i == k):\n",
    "                continue\n",
    "            for j in range(V):\n",
    "                if (j == k):\n",
    "                    continue\n",
    "                upd = False\n",
    "                if (D[i][j] > D[i][k] + D[k][j]):\n",
    "                    upd = True\n",
    "                D[i][j] = min(D[i][j], D[i][k] + D[k][j])\n",
    "                if (upd):\n",
    "                    index = V*i + j\n",
    "                    path[index] = path[V*i + k] + path[V*k + j]\n",
    "    return D, path\n",
    "\n",
    "min_cost_all, path = FloydWarshall(cost)\n",
    "#print(min_cost_all)\n",
    "s = 0\n",
    "t = 4\n",
    "print(min_cost_all[s][t])\n",
    "print(path[s*V + t])                           \n",
    "                "
   ]
  },
  {
   "cell_type": "code",
   "execution_count": 18,
   "id": "af9307ef",
   "metadata": {},
   "outputs": [
    {
     "name": "stdout",
     "output_type": "stream",
     "text": [
      "attractiveness:  6.997802734375\n",
      "path:  [[0, 1], [1, 0]]\n"
     ]
    }
   ],
   "source": [
    "def upd_cost(alp, time, profit, V):\n",
    "    c1 = [[math.inf for i in range(V)] for j in range(V)]\n",
    "    for i in range(V):\n",
    "        for j in range(V):\n",
    "            if(time[i][j] == math.inf):\n",
    "                continue\n",
    "            c1[i][j] = alp*time[i][j] - profit[i][j]\n",
    "    return c1\n",
    "\n",
    "max_ratio = 0\n",
    "min_ratio = math.inf\n",
    "#print(ratio)\n",
    "for i in range(V):\n",
    "    for j in range(V):\n",
    "        if (ratio[i][j] > max_ratio):\n",
    "            max_ratio = ratio[i][j]\n",
    "        if (ratio[i][j] < min_ratio and ratio[i][j] != 0):\n",
    "            min_ratio = ratio[i][j]\n",
    "\n",
    "alp = (max_ratio + min_ratio)/2\n",
    "#print(alp)\n",
    "\n",
    "while (max_ratio - min_ratio > .01): #precision value\n",
    "    #Find negative cost cycle\n",
    "    #print('start')\n",
    "    #print(alp)\n",
    "    new_cost = upd_cost(alp, time, profit, V)\n",
    "    #print(new_cost)\n",
    "    min_cost_all, path = FloydWarshall(new_cost)\n",
    "    #print(min_cost_all)\n",
    "    # check for negative cycle\n",
    "    neg_flag = 0\n",
    "    for i in range(V):\n",
    "        if (min_cost_all[i][i] < 0):\n",
    "            neg_flag = 1\n",
    "            break\n",
    "    if (neg_flag):\n",
    "        min_ratio = alp\n",
    "        alp = (alp + max_ratio)/2\n",
    "    else:\n",
    "        max_ratio = alp\n",
    "        alp = (alp + min_ratio)/2\n",
    "    #print(max_ratio)\n",
    "    #print(min_ratio)\n",
    "print('attractiveness: ', alp)\n",
    "print('path: ', path[i*V + i])\n",
    "#print(min_cost_all)\n",
    "\n",
    "\n",
    "    "
   ]
  },
  {
   "cell_type": "code",
   "execution_count": 19,
   "id": "6173ccdb",
   "metadata": {},
   "outputs": [
    {
     "name": "stdout",
     "output_type": "stream",
     "text": [
      "attractiveness:  7.0\n",
      "path:  [[0, 1], [1, 0]]\n"
     ]
    }
   ],
   "source": [
    "#Algo 2 modified Floyd Warshall O(n^3) - (Alternate approach) not working\n",
    "def m_FloydWarshall(cost, time, profit):\n",
    "    D = copy.deepcopy(cost)\n",
    "    path = [[]]*(V*V)\n",
    "    for i in range(V):\n",
    "        for j in range(V):\n",
    "            if ((i != j) and cost[i][j] != math.inf):\n",
    "                index = V*i + j\n",
    "                path[index] = [[i,j]]\n",
    "    for k in range(V):\n",
    "        for i in range(V):\n",
    "            if (i == k):\n",
    "                continue\n",
    "            for j in range(V):\n",
    "                if (j == k):\n",
    "                    continue\n",
    "                if (time[i][k] == math.inf or time[k][j] == math.inf):\n",
    "                    continue\n",
    "                upd = False\n",
    "                if (D[i][j] > (time[i][k] + time[k][j])/(profit[i][k] + profit[k][j])):\n",
    "                    upd = True\n",
    "                    D[i][j] = (time[i][k] + time[k][j])/(profit[i][k] + profit[k][j])\n",
    "                    profit[i][j] = profit[i][k] + profit[k][j]\n",
    "                    time[i][j] = time[i][k] + time[k][j]\n",
    "                if (upd):\n",
    "                    index = V*i + j\n",
    "                    path[index] = path[V*i + k] + path[V*k + j]\n",
    "    return D, path\n",
    "\n",
    "#print('D matrix')\n",
    "#for i in range(V):\n",
    "#    print(cost[i])\n",
    "min_cost_all, path = m_FloydWarshall(cost, time, profit)\n",
    "#print('Min cost matrix')\n",
    "#for i in range(V):\n",
    "#    print(min_cost_all[i])\n",
    "\n",
    "snode = -1\n",
    "min_val = math.inf\n",
    "for i in range(V):\n",
    "    if (min_cost_all[i][i] < min_val):\n",
    "        min_val = min_cost_all[i][i]\n",
    "        snode = i\n",
    "print('attractiveness: ', 1/min_val)\n",
    "print('path: ', path[snode*V + snode])\n",
    "    \n"
   ]
  }
 ],
 "metadata": {
  "kernelspec": {
   "display_name": "Python 3",
   "language": "python",
   "name": "python3"
  },
  "language_info": {
   "codemirror_mode": {
    "name": "ipython",
    "version": 3
   },
   "file_extension": ".py",
   "mimetype": "text/x-python",
   "name": "python",
   "nbconvert_exporter": "python",
   "pygments_lexer": "ipython3",
   "version": "3.8.8"
  }
 },
 "nbformat": 4,
 "nbformat_minor": 5
}

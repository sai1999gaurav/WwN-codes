{
 "cells": [
  {
   "cell_type": "code",
   "execution_count": 1,
   "id": "f6529dc8",
   "metadata": {},
   "outputs": [
    {
     "name": "stdout",
     "output_type": "stream",
     "text": [
      "['0', '1', '6', '3\\n']\n",
      "['0', '3', '5', '4\\n']\n",
      "['0', '4', '1', '6\\n']\n",
      "['1', '2', '5', '2\\n']\n",
      "['1', '6', '2', '5\\n']\n",
      "['2', '7', '3', '4\\n']\n",
      "['3', '1', '1', '3\\n']\n",
      "['4', '2', '9', '3\\n']\n",
      "['4', '3', '2', '4\\n']\n",
      "['4', '5', '7', '5\\n']\n",
      "['5', '7', '5', '2\\n']\n",
      "['6', '2', '1', '5\\n']\n",
      "['6', '7', '6', '4\\n']\n",
      "[[0, 1, 6, 3], [0, 3, 5, 4], [0, 4, 1, 6], [1, 2, 5, 2], [1, 6, 2, 5], [2, 7, 3, 4], [3, 1, 1, 3], [4, 2, 9, 3], [4, 3, 2, 4], [4, 5, 7, 5], [5, 7, 5, 2], [6, 2, 1, 5], [6, 7, 6, 4]] \n",
      "\n",
      "{0: [1, 3, 4], 1: [2, 6], 2: [7], 3: [1], 4: [2, 3, 5], 5: [7], 6: [2, 7]}\n"
     ]
    }
   ],
   "source": [
    "fread = open(\"Session 7.txt\", \"r\") #netdata.txt\n",
    "G_v_e = fread.readline()\n",
    "G_v_e = G_v_e.split(' ') #change to \\t if tab spaced\n",
    "V = int(G_v_e[0])\n",
    "E = int(G_v_e[1].strip())\n",
    "V_list = list(range(0,V,1))\n",
    "lines = fread.readlines()\n",
    "A_dict = {}\n",
    "G_mat = [ [ 0 for i in range(4) ] for j in range(E) ]\n",
    "g = 0\n",
    "for line in lines:\n",
    "    t_h = line.split(' ') #change to \\t if tab spaced\n",
    "    print(t_h)\n",
    "    G_mat[g][0] = int(t_h[0])\n",
    "    G_mat[g][1] = int(t_h[1])\n",
    "    G_mat[g][2] = int(t_h[2])\n",
    "    G_mat[g][3] = int(t_h[3].strip())\n",
    "    g += 1\n",
    "for i in range(E):\n",
    "    tail = G_mat[i][0]\n",
    "    head = G_mat[i][1]\n",
    "    if tail in A_dict.keys():\n",
    "        A_dict[tail].append(head)        \n",
    "    else:\n",
    "        A_dict[tail] = [head]\n",
    "print(G_mat, \"\\n\")\n",
    "print(A_dict)       "
   ]
  },
  {
   "cell_type": "code",
   "execution_count": 3,
   "id": "b0042162",
   "metadata": {},
   "outputs": [
    {
     "name": "stdout",
     "output_type": "stream",
     "text": [
      "10\n",
      "{0: 0, 1: 3, 2: 6, 3: 4, 4: 0, 5: 4, 6: 1, 7: 2}\n",
      "[0, 4, 3, 1, 6, 2, 7]\n"
     ]
    }
   ],
   "source": [
    "import math\n",
    "def Bellman_Ford(G_mat, V, E, s, t):\n",
    "    parent = {}\n",
    "    for i in range(V):\n",
    "        parent[i] = i\n",
    "    #print(parent)\n",
    "    dist = [math.inf]*V\n",
    "    dist[s] = 0\n",
    "    changed_flag = True\n",
    "    while (changed_flag):\n",
    "        changed_flag = False\n",
    "        d_copy = dist.copy()  #remove this for modified\n",
    "        for i in range(E):\n",
    "            tail = G_mat[i][0]\n",
    "            head = G_mat[i][1]\n",
    "            if (d_copy[head] > dist[tail] + G_mat[i][2]): #d_copy[head] to dist[head]\n",
    "                d_copy[head] = dist[tail] + G_mat[i][2] #d_copy[head] to dist[head]\n",
    "                parent[head] = tail\n",
    "                changed_flag = True\n",
    "        dist = d_copy #remove this for modified\n",
    "    return dist[t], parent\n",
    "\n",
    "s = 0\n",
    "t = 7\n",
    "min_cost, parent = Bellman_Ford(G_mat, V, E, s, t)\n",
    "print(min_cost)\n",
    "print(parent)\n",
    "path = [t]\n",
    "curr = t\n",
    "while (curr != s and curr != parent[curr]):\n",
    "    curr = parent[curr]\n",
    "    path.insert(0, curr)\n",
    "print(path)"
   ]
  },
  {
   "cell_type": "code",
   "execution_count": 4,
   "id": "eb32238d",
   "metadata": {},
   "outputs": [
    {
     "name": "stdout",
     "output_type": "stream",
     "text": [
      "10\n",
      "[0, 4, 3, 1, 6, 2, 7]\n"
     ]
    }
   ],
   "source": [
    "cost = [[math.inf for i in range(V)] for j in range(V)]\n",
    "for i in range(V):\n",
    "    cost[i][i] = 0\n",
    "for i in range(E):\n",
    "    tail = G_mat[i][0]\n",
    "    head = G_mat[i][1]\n",
    "    cost[tail][head] = G_mat[i][2] #make it 1 for BFS\n",
    "\n",
    "#print(cost)\n",
    "def Dijkstra(G_mat, A_dict, cost, V, E, s, t):\n",
    "    parent = {}\n",
    "    for i in range(V):\n",
    "        parent[i] = i\n",
    "    dist = [math.inf]*V\n",
    "    dist[s] = 0\n",
    "    fixed = [s]\n",
    "    chosen = s\n",
    "    while (t not in fixed):\n",
    "        if (chosen not in A_dict.keys()):\n",
    "            print(\"cant use DJ here\")\n",
    "            return dist[t], parent\n",
    "        chosen_range = A_dict[chosen]\n",
    "        k = -1\n",
    "        for i in range(len(chosen_range)):\n",
    "            j = chosen_range[i]\n",
    "            if (j in fixed):\n",
    "                continue\n",
    "            if (dist[j] >= dist[chosen] + cost[chosen][j]):\n",
    "                dist[j] = dist[chosen] + cost[chosen][j]\n",
    "                parent[j] = chosen\n",
    "        min_d = math.inf\n",
    "        min_v = -1\n",
    "        for v in range(V):\n",
    "            if ((dist[v] <= min_d) and (v not in fixed) and (dist[v] != math.inf)):\n",
    "                min_d = dist[v]\n",
    "                min_v = v\n",
    "        k = min_v\n",
    "        if (k == -1 or k == math.inf):\n",
    "            break\n",
    "        else:\n",
    "            fixed.append(k)\n",
    "            chosen = k\n",
    "    return dist[t], parent\n",
    "s = 0\n",
    "t = 7\n",
    "min_cost, parent = Dijkstra(G_mat, A_dict, cost, V, E, s, t)\n",
    "print(min_cost)\n",
    "path = [t]\n",
    "curr = t\n",
    "while (curr != s and curr != parent[curr]):\n",
    "    curr = parent[curr]\n",
    "    path.insert(0, curr)\n",
    "print(path)               \n",
    "            "
   ]
  },
  {
   "cell_type": "code",
   "execution_count": null,
   "id": "420353a3",
   "metadata": {},
   "outputs": [],
   "source": [
    "#Staff Allocation\n",
    "p_dur = 3\n",
    "staff = [3, 2, 4] #required per month\n",
    "h_cost = 12 # x 10^3\n",
    "salary = 16 # x 10^3\n",
    "sev = 5 # x 10^3\n",
    "staff_max = max(staff)\n",
    "V = 2\n",
    "for i in staff:\n",
    "    V = V + staff_max - i + 1\n"
   ]
  },
  {
   "cell_type": "code",
   "execution_count": 40,
   "id": "3b87cd99",
   "metadata": {},
   "outputs": [],
   "source": [
    "fread.close()"
   ]
  }
 ],
 "metadata": {
  "kernelspec": {
   "display_name": "Python 3",
   "language": "python",
   "name": "python3"
  },
  "language_info": {
   "codemirror_mode": {
    "name": "ipython",
    "version": 3
   },
   "file_extension": ".py",
   "mimetype": "text/x-python",
   "name": "python",
   "nbconvert_exporter": "python",
   "pygments_lexer": "ipython3",
   "version": "3.8.8"
  }
 },
 "nbformat": 4,
 "nbformat_minor": 5
}

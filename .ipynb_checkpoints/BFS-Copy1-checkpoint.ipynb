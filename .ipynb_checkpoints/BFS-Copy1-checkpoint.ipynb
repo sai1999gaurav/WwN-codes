{
 "cells": [
  {
   "cell_type": "code",
   "execution_count": 1,
   "id": "d27032f2",
   "metadata": {},
   "outputs": [],
   "source": [
    "#create graph\n",
    "import numpy as np\n",
    "fread = open(\"Quiz1_4.txt\", \"r\")\n",
    "G_v_e = fread.readline()\n",
    "G_v_e = G_v_e.split(' ') #modify to \"\\t\" based on input\n",
    "V = int(G_v_e[0])\n",
    "E = int(G_v_e[1].strip())"
   ]
  },
  {
   "cell_type": "code",
   "execution_count": 2,
   "id": "88d7310a",
   "metadata": {},
   "outputs": [
    {
     "name": "stdout",
     "output_type": "stream",
     "text": [
      "{0: [1], 1: [5], 3: [11], 4: [0, 14], 5: [2], 6: [2], 7: [3, 10], 8: [0], 9: [6, 7], 10: [3, 9], 11: [4, 7], 12: [3, 5, 8], 13: [11], 14: [12]}\n"
     ]
    }
   ],
   "source": [
    "V_list = list(range(0,V,1))\n",
    "lines = fread.readlines()\n",
    "A_dict = {}\n",
    "for line in lines:\n",
    "    t_h = line.split(' ') #modify to \"\\t\" based on input\n",
    "    tail = int(t_h[0])\n",
    "    head = int(t_h[1].strip())\n",
    "    if tail in A_dict.keys():\n",
    "        A_dict[tail].append(head)        \n",
    "    else:\n",
    "        A_dict[tail] = [head]\n",
    "print(A_dict)"
   ]
  },
  {
   "cell_type": "code",
   "execution_count": 2,
   "id": "e0a5d1d8",
   "metadata": {},
   "outputs": [
    {
     "name": "stdout",
     "output_type": "stream",
     "text": [
      "[[0, 3, 1, 1], [3, 0, 0, 0], [0, 4, 1, 1], [4, 0, 0, 0], [0, 5, 1, 1], [5, 0, 0, 0], [0, 7, 1, 1], [7, 0, 0, 0], [0, 8, 1, 1], [8, 0, 0, 0], [1, 3, 1, 1], [3, 1, 0, 0], [1, 4, 1, 1], [4, 1, 0, 0], [1, 5, 1, 1], [5, 1, 0, 0], [1, 7, 1, 1], [7, 1, 0, 0], [1, 8, 1, 1], [8, 1, 0, 0], [1, 21, 1, 1], [21, 1, 0, 0], [1, 23, 1, 1], [23, 1, 0, 0], [1, 24, 1, 1], [24, 1, 0, 0], [2, 4, 1, 1], [4, 2, 0, 0], [2, 5, 1, 1], [5, 2, 0, 0], [2, 7, 1, 1], [7, 2, 0, 0], [2, 8, 1, 1], [8, 2, 0, 0], [2, 21, 1, 1], [21, 2, 0, 0], [2, 30, 1, 1], [30, 2, 0, 0], [3, 7, 1, 1], [7, 3, 0, 0], [3, 8, 1, 1], [8, 3, 0, 0], [3, 9, 1, 1], [9, 3, 0, 0], [3, 10, 1, 1], [10, 3, 0, 0], [3, 11, 1, 1], [11, 3, 0, 0], [4, 8, 1, 1], [8, 4, 0, 0], [4, 9, 1, 1], [9, 4, 0, 0], [4, 10, 1, 1], [10, 4, 0, 0], [4, 11, 1, 1], [11, 4, 0, 0], [5, 7, 1, 1], [7, 5, 0, 0], [5, 8, 1, 1], [8, 5, 0, 0], [5, 9, 1, 1], [9, 5, 0, 0], [5, 10, 1, 1], [10, 5, 0, 0], [5, 11, 1, 1], [11, 5, 0, 0], [6, 7, 1, 1], [7, 6, 0, 0], [6, 8, 1, 1], [8, 6, 0, 0], [6, 9, 1, 1], [9, 6, 0, 0], [6, 10, 1, 1], [10, 6, 0, 0], [7, 9, 1, 1], [9, 7, 0, 0], [7, 10, 1, 1], [10, 7, 0, 0], [7, 12, 1, 1], [12, 7, 0, 0], [7, 13, 1, 1], [13, 7, 0, 0], [7, 14, 1, 1], [14, 7, 0, 0], [8, 9, 1, 1], [9, 8, 0, 0], [8, 12, 1, 1], [12, 8, 0, 0], [8, 14, 1, 1], [14, 8, 0, 0], [9, 12, 1, 1], [12, 9, 0, 0], [9, 15, 1, 1], [15, 9, 0, 0], [9, 16, 1, 1], [16, 9, 0, 0], [10, 13, 1, 1], [13, 10, 0, 0], [10, 14, 1, 1], [14, 10, 0, 0], [10, 15, 1, 1], [15, 10, 0, 0], [10, 16, 1, 1], [16, 10, 0, 0], [11, 12, 1, 1], [12, 11, 0, 0], [11, 13, 1, 1], [13, 11, 0, 0], [11, 15, 1, 1], [15, 11, 0, 0], [11, 16, 1, 1], [16, 11, 0, 0], [12, 16, 1, 1], [16, 12, 0, 0], [12, 17, 1, 1], [17, 12, 0, 0], [12, 18, 1, 1], [18, 12, 0, 0], [12, 19, 1, 1], [19, 12, 0, 0], [12, 20, 1, 1], [20, 12, 0, 0], [13, 15, 1, 1], [15, 13, 0, 0], [13, 16, 1, 1], [16, 13, 0, 0], [13, 17, 1, 1], [17, 13, 0, 0], [13, 18, 1, 1], [18, 13, 0, 0], [13, 20, 1, 1], [20, 13, 0, 0], [14, 15, 1, 1], [15, 14, 0, 0], [14, 17, 1, 1], [17, 14, 0, 0], [14, 18, 1, 1], [18, 14, 0, 0], [14, 19, 1, 1], [19, 14, 0, 0], [14, 20, 1, 1], [20, 14, 0, 0], [15, 17, 1, 1], [17, 15, 0, 0], [15, 18, 1, 1], [18, 15, 0, 0], [15, 19, 1, 1], [19, 15, 0, 0], [15, 20, 1, 1], [20, 15, 0, 0], [16, 17, 1, 1], [17, 16, 0, 0], [16, 18, 1, 1], [18, 16, 0, 0], [16, 20, 1, 1], [20, 16, 0, 0], [21, 22, 1, 1], [22, 21, 0, 0], [22, 24, 1, 1], [24, 22, 0, 0], [23, 24, 1, 1], [24, 23, 0, 0], [24, 17, 1, 1], [17, 24, 0, 0], [24, 25, 1, 1], [25, 24, 0, 0], [24, 26, 1, 1], [26, 24, 0, 0], [25, 27, 1, 1], [27, 25, 0, 0], [26, 17, 1, 1], [17, 26, 0, 0], [26, 28, 1, 1], [28, 26, 0, 0], [27, 17, 1, 1], [17, 27, 0, 0], [27, 19, 1, 1], [19, 27, 0, 0], [28, 19, 1, 1], [19, 28, 0, 0], [29, 19, 1, 1], [19, 29, 0, 0], [30, 23, 1, 1], [23, 30, 0, 0]] \n",
      "\n",
      "{0: [3, 4, 5, 7, 8], 3: [0, 1, 7, 8, 9, 10, 11], 4: [0, 1, 2, 8, 9, 10, 11], 5: [0, 1, 2, 7, 8, 9, 10, 11], 7: [0, 1, 2, 3, 5, 6, 9, 10, 12, 13, 14], 8: [0, 1, 2, 3, 4, 5, 6, 9, 12, 14], 1: [3, 4, 5, 7, 8, 21, 23, 24], 21: [1, 2, 22], 23: [1, 24, 30], 24: [1, 22, 23, 17, 25, 26], 2: [4, 5, 7, 8, 21, 30], 30: [2, 23], 9: [3, 4, 5, 6, 7, 8, 12, 15, 16], 10: [3, 4, 5, 6, 7, 13, 14, 15, 16], 11: [3, 4, 5, 12, 13, 15, 16], 6: [7, 8, 9, 10], 12: [7, 8, 9, 11, 16, 17, 18, 19, 20], 13: [7, 10, 11, 15, 16, 17, 18, 20], 14: [7, 8, 10, 15, 17, 18, 19, 20], 15: [9, 10, 11, 13, 14, 17, 18, 19, 20], 16: [9, 10, 11, 12, 13, 17, 18, 20], 17: [12, 13, 14, 15, 16, 24, 26, 27], 18: [12, 13, 14, 15, 16], 19: [12, 14, 15, 27, 28, 29], 20: [12, 13, 14, 15, 16], 22: [21, 24], 25: [24, 27], 26: [24, 17, 28], 27: [25, 17, 19], 28: [26, 19], 29: [19]}\n"
     ]
    }
   ],
   "source": [
    "# Netdata.txt type input\n",
    "fread = open(\"f2.txt\", \"r\") #netdata.txt\n",
    "G_v_e = fread.readline()\n",
    "G_v_e = G_v_e.split('\\t')\n",
    "V = int(G_v_e[0])\n",
    "E = int(G_v_e[1].strip())\n",
    "V_list = list(range(0,V,1))\n",
    "lines = fread.readlines()\n",
    "A_dict = {}\n",
    "G_mat = [ [ 0 for i in range(4) ] for j in range(2*E) ]\n",
    "g = 0\n",
    "for line in lines:\n",
    "    t_h = line.split('\\t')\n",
    "    G_mat[g][0] = int(t_h[0])\n",
    "    G_mat[g][1] = int(t_h[1])\n",
    "    G_mat[g][2] = int(t_h[2])\n",
    "    G_mat[g][3] = int(t_h[3].strip())\n",
    "    G_mat[g+1][0] = int(t_h[1])\n",
    "    G_mat[g+1][1] = int(t_h[0])\n",
    "    G_mat[g][2] = int(t_h[2])\n",
    "    G_mat[g][3] = int(t_h[3].strip())\n",
    "    g += 2\n",
    "for i in range(2*E):\n",
    "    tail = G_mat[i][0]\n",
    "    head = G_mat[i][1]\n",
    "    if tail in A_dict.keys():\n",
    "        A_dict[tail].append(head)        \n",
    "    else:\n",
    "        A_dict[tail] = [head]\n",
    "print(G_mat, \"\\n\")\n",
    "print(A_dict)   "
   ]
  },
  {
   "cell_type": "code",
   "execution_count": 3,
   "id": "44545f13",
   "metadata": {},
   "outputs": [
    {
     "data": {
      "text/plain": [
       "31"
      ]
     },
     "execution_count": 3,
     "metadata": {},
     "output_type": "execute_result"
    }
   ],
   "source": [
    "len(V_list)"
   ]
  },
  {
   "cell_type": "code",
   "execution_count": 4,
   "id": "b3e12796",
   "metadata": {},
   "outputs": [],
   "source": [
    "def remove(original, visited):\n",
    "    modified = original.copy()\n",
    "    for i in visited:\n",
    "        try: \n",
    "            modified.remove(i)\n",
    "        except ValueError:\n",
    "            pass\n",
    "    return modified"
   ]
  },
  {
   "cell_type": "code",
   "execution_count": 5,
   "id": "b09fe136",
   "metadata": {},
   "outputs": [
    {
     "name": "stdout",
     "output_type": "stream",
     "text": [
      "{0: [3, 4, 5, 7, 8], 3: [0, 1, 7, 8, 9, 10, 11], 4: [0, 1, 2, 8, 9, 10, 11], 5: [0, 1, 2, 7, 8, 9, 10, 11], 7: [0, 1, 2, 3, 5, 6, 9, 10, 12, 13, 14], 8: [0, 1, 2, 3, 4, 5, 6, 9, 12, 14], 1: [3, 4, 5, 7, 8, 21, 23, 24], 21: [1, 2, 22], 23: [1, 24, 30], 24: [1, 22, 23, 17, 25, 26], 2: [4, 5, 7, 8, 21, 30], 30: [2, 23], 9: [3, 4, 5, 6, 7, 8, 12, 15, 16], 10: [3, 4, 5, 6, 7, 13, 14, 15, 16], 11: [3, 4, 5, 12, 13, 15, 16], 6: [7, 8, 9, 10], 12: [7, 8, 9, 11, 16, 17, 18, 19, 20], 13: [7, 10, 11, 15, 16, 17, 18, 20], 14: [7, 8, 10, 15, 17, 18, 19, 20], 15: [9, 10, 11, 13, 14, 17, 18, 19, 20], 16: [9, 10, 11, 12, 13, 17, 18, 20], 17: [12, 13, 14, 15, 16, 24, 26, 27], 18: [12, 13, 14, 15, 16], 19: [12, 14, 15, 27, 28, 29], 20: [12, 13, 14, 15, 16], 22: [21, 24], 25: [24, 27], 26: [24, 17, 28], 27: [25, 17, 19], 28: [26, 19], 29: [19]}\n"
     ]
    }
   ],
   "source": [
    "print(A_dict)"
   ]
  },
  {
   "cell_type": "code",
   "execution_count": 6,
   "id": "ccd88cb1",
   "metadata": {},
   "outputs": [],
   "source": [
    "def common(original, unseen):\n",
    "    modified = []\n",
    "    for i in unseen:\n",
    "        if i in original:\n",
    "            modified.append(i)\n",
    "    return modified"
   ]
  },
  {
   "cell_type": "code",
   "execution_count": 10,
   "id": "6dea3c5f",
   "metadata": {},
   "outputs": [
    {
     "name": "stdout",
     "output_type": "stream",
     "text": [
      "[12, 16, 7, 11, 19, 9, 2, 4, 8]\n",
      "[0, 1, 3, 5, 6, 10, 13, 14, 15, 17, 18, 20, 21, 22, 23, 24]  nodes can't be reached\n",
      "{12: 0, 16: 1, 7: 2, 11: 2, 19: 2, 9: 3, 2: 3, 4: 3, 8: 3}\n"
     ]
    }
   ],
   "source": [
    "#BFS\n",
    "s = 2\n",
    "active = [s]\n",
    "unseen = remove(V_list, active)\n",
    "traversal = active.copy()\n",
    "#print(unseen)\n",
    "arc_dict = {}\n",
    "arc_dict[s] = 0\n",
    "while ((len(active) != 0) and (unseen != None)):\n",
    "    j = active[0]\n",
    "    if (len(active) == 1):\n",
    "        active = []\n",
    "    else:\n",
    "        active = remove(active, [j])\n",
    "    if (j not in A_dict.keys()):\n",
    "        continue\n",
    "    new_v_list = common(A_dict[j], unseen)\n",
    "    for i in new_v_list:\n",
    "        if i not in arc_dict.keys():\n",
    "            arc_dict[i] = arc_dict[j] + 1\n",
    "    unseen = remove(unseen, new_v_list)\n",
    "    traversal.extend(new_v_list)\n",
    "    if (len(active) == 0):\n",
    "        active = new_v_list.copy()\n",
    "    else:\n",
    "        active.extend(new_v_list)\n",
    "if (unseen == None):\n",
    "    print(traversal)\n",
    "else:\n",
    "    print(traversal)\n",
    "    print(unseen, \" nodes can't be reached\")\n",
    "print(arc_dict)"
   ]
  },
  {
   "cell_type": "code",
   "execution_count": 13,
   "id": "0a2beb6f",
   "metadata": {},
   "outputs": [],
   "source": [
    "fread.close()"
   ]
  },
  {
   "cell_type": "code",
   "execution_count": 13,
   "id": "08c940a8",
   "metadata": {},
   "outputs": [
    {
     "name": "stdout",
     "output_type": "stream",
     "text": [
      "[0, 5, 21, 6, 18, 22, 24, 14, 23]\n"
     ]
    }
   ],
   "source": [
    "# BFS_queue\n",
    "def bfs_queue(visited, graph, node, queue): #function for BFS\n",
    "    visited.append(node)\n",
    "    queue.append(node)\n",
    "    \n",
    "    while queue:          # Creating loop to visit each node\n",
    "        m = queue.pop(0) \n",
    "        #print (m, end = \" \") \n",
    "        if (m not in graph.keys()):\n",
    "            continue\n",
    "        for neighbour in graph[m]:\n",
    "            if neighbour not in visited:\n",
    "                visited.append(neighbour)\n",
    "                queue.append(neighbour)\n",
    "visited = []\n",
    "bfs_queue(visited, A_dict,0, [])\n",
    "print(visited)"
   ]
  },
  {
   "cell_type": "code",
   "execution_count": 11,
   "id": "22f14a5a",
   "metadata": {},
   "outputs": [],
   "source": [
    "# BFS undirected\n",
    "fread = open(\"directed graph.txt\", \"r\")\n",
    "lines = fread.readlines()\n",
    "B_dict = {}\n",
    "i = 0\n",
    "for line in lines:\n",
    "    if (i == 0):\n",
    "        i = 1\n",
    "        continue\n",
    "    t_h = line.split(' ') #modify to \"\\t\" based on input\n",
    "    tail = int(t_h[0])\n",
    "    head = int(t_h[1].strip())\n",
    "    if tail in B_dict.keys():\n",
    "        B_dict[tail].append(head)       \n",
    "    else:\n",
    "        B_dict[tail] = [head]\n",
    "    if head in B_dict.keys():\n",
    "        B_dict[head].append(tail)       \n",
    "    else:\n",
    "        B_dict[head] = [tail]\n",
    "#print(B_dict)"
   ]
  },
  {
   "cell_type": "code",
   "execution_count": 14,
   "id": "571c69bf",
   "metadata": {},
   "outputs": [
    {
     "name": "stdout",
     "output_type": "stream",
     "text": [
      "[0, 1, 3, 4, 2, 6, 5]\n",
      "[7, 8, 9, 10, 11, 12, 13, 14, 15, 16, 17, 18, 19, 20, 21, 22, 23, 24]  nodes can't be reached\n",
      "[0, 1, 3, 4, 2, 6, 5]\n"
     ]
    }
   ],
   "source": [
    "#Method_WwN\n",
    "s = 0\n",
    "active = [s]\n",
    "unseen = remove(V_list, active)\n",
    "traversal = active.copy()\n",
    "#print(unseen)\n",
    "while ((len(active) != 0) and (unseen != None)):\n",
    "    j = active[0]\n",
    "    if (len(active) == 1):\n",
    "        active = []\n",
    "    else:\n",
    "        active = remove(active, [j])\n",
    "    if (j not in B_dict.keys()):\n",
    "        continue\n",
    "    new_v_list = common(B_dict[j], unseen)\n",
    "    unseen = remove(unseen, new_v_list)\n",
    "    traversal.extend(new_v_list)\n",
    "    if (len(active) == 0):\n",
    "        active = new_v_list.copy()\n",
    "    else:\n",
    "        active.extend(new_v_list)\n",
    "if (unseen == None):\n",
    "    print(traversal)\n",
    "else:\n",
    "    print(traversal)\n",
    "    print(unseen, \" nodes can't be reached\")\n",
    "\n",
    "#Method_2\n",
    "traversal_2 = []\n",
    "bfs_queue(traversal_2, B_dict,0, [])\n",
    "print(traversal_2)"
   ]
  },
  {
   "cell_type": "code",
   "execution_count": 15,
   "id": "26987487",
   "metadata": {},
   "outputs": [],
   "source": [
    "fread.close()"
   ]
  },
  {
   "cell_type": "code",
   "execution_count": null,
   "id": "c7c96731",
   "metadata": {},
   "outputs": [],
   "source": []
  }
 ],
 "metadata": {
  "kernelspec": {
   "display_name": "Python 3",
   "language": "python",
   "name": "python3"
  },
  "language_info": {
   "codemirror_mode": {
    "name": "ipython",
    "version": 3
   },
   "file_extension": ".py",
   "mimetype": "text/x-python",
   "name": "python",
   "nbconvert_exporter": "python",
   "pygments_lexer": "ipython3",
   "version": "3.8.8"
  }
 },
 "nbformat": 4,
 "nbformat_minor": 5
}

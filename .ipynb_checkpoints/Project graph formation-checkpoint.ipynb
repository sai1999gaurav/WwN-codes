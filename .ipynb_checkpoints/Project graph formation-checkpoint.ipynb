{
 "cells": [
  {
   "cell_type": "code",
   "execution_count": 2,
   "id": "6f7b6f4d",
   "metadata": {},
   "outputs": [],
   "source": [
    "import math\n",
    "import copy\n",
    "dist = [[0 for i in range(7)] for j in range(7)]"
   ]
  },
  {
   "cell_type": "code",
   "execution_count": 4,
   "id": "8cf5c65c",
   "metadata": {},
   "outputs": [],
   "source": [
    "dist[0] = [0, 330, 73, 182, 200, 396, 28]\n",
    "dist[1] = [330, 0, 361, 470, 113, 348, 358]\n",
    "dist[2] = [73, 361, 0, 109, 242, 427, 101]\n",
    "dist[3] = [182, 470, 109, 0, 351, 536, 210]\n",
    "dist[4] = [200, 113, 242, 351, 0, 396, 228]\n",
    "dist[5] = [396, 348, 427, 536, 396, 0, 379]\n",
    "dist[6] = [28, 358, 101, 210, 228, 379, 0]"
   ]
  },
  {
   "cell_type": "code",
   "execution_count": 41,
   "id": "f4d1a896",
   "metadata": {},
   "outputs": [
    {
     "name": "stdout",
     "output_type": "stream",
     "text": [
      "['AHMEDABAD', 'BHARUCH', '30', '15\\n']\n",
      "['AMRELI', 'BHAVNAGAR', '20', '20\\n']\n",
      "['ANAND', 'BHUJ', '40', '25\\n']\n",
      "[[0, 3, 30, 15], [1, 4, 20, 20], [2, 5, 40, 25]]\n",
      "3\n"
     ]
    }
   ],
   "source": [
    "p_dict = {\"AHMEDABAD\":0, \"AMRELI\":1, \"ANAND\":2, \"BHARUCH\":3, \"BHAVNAGAR\":4, \"BHUJ\":5, \"GANDHINAGAR\":6}\n",
    "fread = open(\"order.txt\", \"r\")\n",
    "lines = fread.readlines()\n",
    "ship = []\n",
    "for line in lines:\n",
    "    t_h = line.split('\\t') #change to \\t if tab spaced\n",
    "    print(t_h)\n",
    "    src = p_dict[t_h[0]]\n",
    "    dst = p_dict[t_h[1]]\n",
    "    trucks = int(t_h[2])\n",
    "    due = int(t_h[3].strip())\n",
    "    ship.append([src, dst, trucks, due])\n",
    "print(ship) \n",
    "n = len(ship)\n",
    "print(n)    \n",
    "fread.close()"
   ]
  },
  {
   "cell_type": "code",
   "execution_count": 11,
   "id": "2e8f79da",
   "metadata": {},
   "outputs": [],
   "source": [
    "\"\"\"\n",
    "n = 3\n",
    "ship = [[0 for i in range(4)] for j in range(n)]\n",
    "ship[0] = [0, 3, 30, 15]\n",
    "ship[1] = [1, 4, 20, 20]\n",
    "ship[2] = [2, 5, 40, 25]\n",
    "\"\"\""
   ]
  },
  {
   "cell_type": "code",
   "execution_count": 42,
   "id": "4b1a943f",
   "metadata": {},
   "outputs": [
    {
     "name": "stdout",
     "output_type": "stream",
     "text": [
      "[0.15166666666666667, 0.09416666666666666, 0.3558333333333333]\n",
      "[13.848333333333333, 18.905833333333334, 23.644166666666667]\n"
     ]
    }
   ],
   "source": [
    "transit = [0 for i in range(n)]\n",
    "l_start = [0 for i in range(n)]\n",
    "for i in range(n):\n",
    "    src = ship[i][0]\n",
    "    dst = ship[i][1]\n",
    "    transit[i] = dist[src][dst]/50/24\n",
    "    l_start[i] = ship[i][3] - transit[i] - 1\n",
    "print(transit)\n",
    "print(l_start)"
   ]
  },
  {
   "cell_type": "code",
   "execution_count": 43,
   "id": "2dea91aa",
   "metadata": {},
   "outputs": [
    {
     "name": "stdout",
     "output_type": "stream",
     "text": [
      "[[16.12638888888889, 16.32638888888889, 16.075694444444444], [21.13888888888889, 21.07847222222222, 21.168055555555554], [26.275, 26.241666666666667, 26.29652777777778]]\n"
     ]
    }
   ],
   "source": [
    "ret = [[0 for i in range(n)] for j in range(n)]\n",
    "for i in range(n):\n",
    "    src = ship[i][1]\n",
    "    for j in range(n):\n",
    "        dst = ship[j][0]\n",
    "        ret[i][j] = ship[i][3] + 1 + dist[src][dst]/60/24\n",
    "print(ret)"
   ]
  },
  {
   "cell_type": "code",
   "execution_count": 44,
   "id": "df490b94",
   "metadata": {},
   "outputs": [
    {
     "name": "stdout",
     "output_type": "stream",
     "text": [
      "[[0, 1, 0, 30], [0, 3, 0, 20], [0, 5, 0, 40], [1, 2, 0, 30], [3, 4, 0, 20], [5, 6, 0, 40], [2, 7, 0, 30], [4, 7, 0, 20], [6, 7, 0, 40], [2, 3, 0, 20], [2, 5, 0, 30], [4, 5, 0, 20]]\n"
     ]
    }
   ],
   "source": [
    "g_list = []\n",
    "#from ahm to all sources\n",
    "for i in range(n):\n",
    "    g_list.append([0, 2*i+1, 0, ship[i][2]])\n",
    "#shipment edges\n",
    "for i in range(n):\n",
    "    g_list.append([2*i+1, 2*(i+1), 0, ship[i][2]])\n",
    "#from dest to ahm\n",
    "for i in range(n):\n",
    "    g_list.append([2*(i+1), 2*n+1, 0, ship[i][2]])\n",
    "#intermediate edges\n",
    "for i in range(n):\n",
    "    for j in range(n):\n",
    "        if (j == i): #same shipment\n",
    "            continue\n",
    "        if (l_start[j] >= ret[i][j]): #go from i to j \n",
    "            g_list.append([2*(i+1), 2*j+1, 0, min(ship[i][2], ship[j][2])])\n",
    "             \n",
    "print(g_list)"
   ]
  },
  {
   "cell_type": "code",
   "execution_count": 37,
   "id": "648de151",
   "metadata": {},
   "outputs": [
    {
     "name": "stdout",
     "output_type": "stream",
     "text": [
      "8 12\n",
      "0 1 0 30\n",
      "0 3 0 20\n",
      "0 5 0 40\n",
      "1 2 0 30\n",
      "3 4 0 20\n",
      "5 6 0 40\n",
      "2 7 0 30\n",
      "4 7 0 20\n",
      "6 7 0 40\n",
      "2 3 0 20\n",
      "2 5 0 30\n",
      "4 5 0 20\n"
     ]
    }
   ],
   "source": [
    "print(2*(n+1),len(g_list))\n",
    "for i in range(len(g_list)):\n",
    "    for j in range(3):\n",
    "        print(g_list[i][j], end = \" \")\n",
    "    print(g_list[i][3])"
   ]
  }
 ],
 "metadata": {
  "kernelspec": {
   "display_name": "Python 3",
   "language": "python",
   "name": "python3"
  },
  "language_info": {
   "codemirror_mode": {
    "name": "ipython",
    "version": 3
   },
   "file_extension": ".py",
   "mimetype": "text/x-python",
   "name": "python",
   "nbconvert_exporter": "python",
   "pygments_lexer": "ipython3",
   "version": "3.8.8"
  }
 },
 "nbformat": 4,
 "nbformat_minor": 5
}

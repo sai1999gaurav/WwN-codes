{
 "cells": [
  {
   "cell_type": "code",
   "execution_count": 1,
   "id": "f6529dc8",
   "metadata": {},
   "outputs": [
    {
     "ename": "FileNotFoundError",
     "evalue": "[Errno 2] No such file or directory: 'Session 3'",
     "output_type": "error",
     "traceback": [
      "\u001b[1;31m---------------------------------------------------------------------------\u001b[0m",
      "\u001b[1;31mFileNotFoundError\u001b[0m                         Traceback (most recent call last)",
      "\u001b[1;32m<ipython-input-1-3c5bcdfd8e42>\u001b[0m in \u001b[0;36m<module>\u001b[1;34m\u001b[0m\n\u001b[1;32m----> 1\u001b[1;33m \u001b[0mfread\u001b[0m \u001b[1;33m=\u001b[0m \u001b[0mopen\u001b[0m\u001b[1;33m(\u001b[0m\u001b[1;34m\"Session 3\"\u001b[0m\u001b[1;33m,\u001b[0m \u001b[1;34m\"r\"\u001b[0m\u001b[1;33m)\u001b[0m \u001b[1;31m#netdata.txt\u001b[0m\u001b[1;33m\u001b[0m\u001b[1;33m\u001b[0m\u001b[0m\n\u001b[0m\u001b[0;32m      2\u001b[0m \u001b[0mG_v_e\u001b[0m \u001b[1;33m=\u001b[0m \u001b[0mfread\u001b[0m\u001b[1;33m.\u001b[0m\u001b[0mreadline\u001b[0m\u001b[1;33m(\u001b[0m\u001b[1;33m)\u001b[0m\u001b[1;33m\u001b[0m\u001b[1;33m\u001b[0m\u001b[0m\n\u001b[0;32m      3\u001b[0m \u001b[0mG_v_e\u001b[0m \u001b[1;33m=\u001b[0m \u001b[0mG_v_e\u001b[0m\u001b[1;33m.\u001b[0m\u001b[0msplit\u001b[0m\u001b[1;33m(\u001b[0m\u001b[1;34m' '\u001b[0m\u001b[1;33m)\u001b[0m \u001b[1;31m#change to \\t if tab spaced\u001b[0m\u001b[1;33m\u001b[0m\u001b[1;33m\u001b[0m\u001b[0m\n\u001b[0;32m      4\u001b[0m \u001b[0mV\u001b[0m \u001b[1;33m=\u001b[0m \u001b[0mint\u001b[0m\u001b[1;33m(\u001b[0m\u001b[0mG_v_e\u001b[0m\u001b[1;33m[\u001b[0m\u001b[1;36m0\u001b[0m\u001b[1;33m]\u001b[0m\u001b[1;33m)\u001b[0m\u001b[1;33m\u001b[0m\u001b[1;33m\u001b[0m\u001b[0m\n\u001b[0;32m      5\u001b[0m \u001b[0mE\u001b[0m \u001b[1;33m=\u001b[0m \u001b[0mint\u001b[0m\u001b[1;33m(\u001b[0m\u001b[0mG_v_e\u001b[0m\u001b[1;33m[\u001b[0m\u001b[1;36m1\u001b[0m\u001b[1;33m]\u001b[0m\u001b[1;33m.\u001b[0m\u001b[0mstrip\u001b[0m\u001b[1;33m(\u001b[0m\u001b[1;33m)\u001b[0m\u001b[1;33m)\u001b[0m\u001b[1;33m\u001b[0m\u001b[1;33m\u001b[0m\u001b[0m\n",
      "\u001b[1;31mFileNotFoundError\u001b[0m: [Errno 2] No such file or directory: 'Session 3'"
     ]
    }
   ],
   "source": [
    "fread = open(\"Session 3\", \"r\") #netdata.txt\n",
    "G_v_e = fread.readline()\n",
    "G_v_e = G_v_e.split(' ') #change to \\t if tab spaced\n",
    "V = int(G_v_e[0])\n",
    "E = int(G_v_e[1].strip())\n",
    "V_list = list(range(0,V,1))\n",
    "lines = fread.readlines()\n",
    "A_dict = {}\n",
    "G_mat = [ [ 0 for i in range(4) ] for j in range(E) ]\n",
    "g = 0\n",
    "for line in lines:\n",
    "    t_h = line.split(' ') #change to \\t if tab spaced\n",
    "    print(t_h)\n",
    "    G_mat[g][0] = int(t_h[0])\n",
    "    G_mat[g][1] = int(t_h[1])\n",
    "    G_mat[g][2] = int(t_h[2])\n",
    "    G_mat[g][3] = int(t_h[3].strip())\n",
    "    g += 1\n",
    "for i in range(E):\n",
    "    tail = G_mat[i][0]\n",
    "    head = G_mat[i][1]\n",
    "    if tail in A_dict.keys():\n",
    "        A_dict[tail].append(head)        \n",
    "    else:\n",
    "        A_dict[tail] = [head]\n",
    "print(G_mat, \"\\n\")\n",
    "print(A_dict)       "
   ]
  },
  {
   "cell_type": "code",
   "execution_count": null,
   "id": "b0042162",
   "metadata": {},
   "outputs": [
    {
     "name": "stdout",
     "output_type": "stream",
     "text": [
      "1\n",
      "[0, 4, inf, inf, 3, inf, inf, inf]\n",
      "{0: 0, 1: 0, 2: 2, 3: 3, 4: 0, 5: 5, 6: 6, 7: 7}\n",
      "2\n",
      "[0, 4, 7, inf, 3, inf, inf, inf]\n",
      "{0: 0, 1: 0, 2: 1, 3: 3, 4: 0, 5: 5, 6: 6, 7: 7}\n",
      "3\n",
      "[0, 4, 7, 8, 3, 4, inf, 11]\n",
      "{0: 0, 1: 0, 2: 1, 3: 2, 4: 0, 5: 2, 6: 6, 7: 2}\n",
      "4\n",
      "[0, 2, 7, 8, 3, 4, 10, 6]\n",
      "{0: 0, 1: 3, 2: 1, 3: 2, 4: 0, 5: 2, 6: 3, 7: 5}\n",
      "5\n",
      "[0, 2, 5, 8, 3, 4, 10, 6]\n",
      "{0: 0, 1: 3, 2: 1, 3: 2, 4: 0, 5: 2, 6: 3, 7: 5}\n",
      "6\n",
      "[0, 2, 5, 6, 3, 2, 10, 6]\n",
      "{0: 0, 1: 3, 2: 1, 3: 2, 4: 0, 5: 2, 6: 3, 7: 5}\n",
      "7\n",
      "[0, 0, 5, 6, 3, 2, 8, 4]\n",
      "{0: 0, 1: 3, 2: 1, 3: 2, 4: 0, 5: 2, 6: 3, 7: 5}\n",
      "8\n",
      "[0, 0, 3, 6, 3, 2, 8, 4]\n",
      "{0: 0, 1: 3, 2: 1, 3: 2, 4: 0, 5: 2, 6: 3, 7: 5}\n",
      "4\n",
      "{0: 0, 1: 3, 2: 1, 3: 2, 4: 0, 5: 2, 6: 3, 7: 5}\n"
     ]
    }
   ],
   "source": [
    "import math\n",
    "def Bellman_Ford(G_mat, V, E, s, t):\n",
    "    parent = {}\n",
    "    for i in range(V):\n",
    "        parent[i] = i\n",
    "    #print(parent)\n",
    "    dist = [math.inf]*V\n",
    "    dist[s] = 0\n",
    "    changed_flag = True\n",
    "    itr = 1\n",
    "    while (changed_flag):\n",
    "        changed_flag = False\n",
    "        d_copy = dist.copy()  #remove this for modified\n",
    "        for i in range(E):\n",
    "            tail = G_mat[i][0]\n",
    "            head = G_mat[i][1]\n",
    "            if (d_copy[head] > dist[tail] + G_mat[i][2]): #d_copy[head] to dist[head]\n",
    "                d_copy[head] = dist[tail] + G_mat[i][2] #d_copy[head] to dist[head]\n",
    "                parent[head] = tail\n",
    "                changed_flag = True\n",
    "        dist = d_copy #remove this for modified\n",
    "        #print(itr)\n",
    "        #print(dist)\n",
    "        #print(parent)\n",
    "        itr = itr + 1\n",
    "        if (itr > V): #to take care of negative cycles\n",
    "            break        \n",
    "    return dist[t], parent\n",
    "\n",
    "s = 0\n",
    "t = 7\n",
    "min_cost, parent = Bellman_Ford(G_mat, V, E, s, t)\n",
    "print(min_cost)\n",
    "print(parent)\n",
    "path = [t]\n",
    "curr = t\n",
    "while (curr != s and curr != parent[curr]):\n",
    "    curr = parent[curr]\n",
    "    path.insert(0, curr)\n",
    "print(path)"
   ]
  },
  {
   "cell_type": "code",
   "execution_count": 8,
   "id": "137baef3",
   "metadata": {},
   "outputs": [
    {
     "name": "stdout",
     "output_type": "stream",
     "text": [
      "0\n",
      "75\n",
      "1459\n"
     ]
    }
   ],
   "source": [
    "max_n = 0\n",
    "max_c = 0\n",
    "max_s = 0\n",
    "for s in range(V):\n",
    "    for t in range(V):\n",
    "        min_cost, parent = Bellman_Ford(G_mat, V, E, s, t)\n",
    "        if (min_cost > max_c and min_cost != math.inf):\n",
    "            max_c = min_cost\n",
    "            max_n = t\n",
    "            max_s = s\n",
    "print(max_s)\n",
    "print(max_n)\n",
    "print(max_c)\n",
    "        \n",
    "        \n",
    "    \n",
    "    "
   ]
  },
  {
   "cell_type": "code",
   "execution_count": 11,
   "id": "53f6e546",
   "metadata": {},
   "outputs": [
    {
     "name": "stdout",
     "output_type": "stream",
     "text": [
      "4\n",
      "64\n"
     ]
    }
   ],
   "source": [
    "min_n = 0\n",
    "min_c = math.inf\n",
    "for s in [5]:\n",
    "    for t in range(V):\n",
    "        min_cost, parent = Bellman_Ford(G_mat, V, E, s, t)\n",
    "        if (min_cost < min_c and min_cost != math.inf and t != 5):\n",
    "            min_c = min_cost\n",
    "            min_n = t\n",
    "print(min_n)\n",
    "print(min_c)"
   ]
  },
  {
   "cell_type": "code",
   "execution_count": 28,
   "id": "eb32238d",
   "metadata": {},
   "outputs": [
    {
     "name": "stdout",
     "output_type": "stream",
     "text": [
      "5861\n",
      "{0: 0, 1: 11, 2: 13, 3: 13, 4: 5, 5: 14, 6: 5, 7: 6, 8: 9, 9: 19, 10: 10, 11: 10, 12: 1, 13: 22, 14: 13, 15: 14, 16: 15, 17: 17, 18: 8, 19: 29, 20: 10, 21: 11, 22: 11, 23: 13, 24: 33, 25: 14, 26: 25, 27: 26, 28: 27, 29: 28, 30: 31, 31: 21, 32: 31, 33: 34, 34: 44, 35: 25, 36: 35, 37: 36, 38: 37, 39: 29, 40: 40, 41: 51, 42: 32, 43: 44, 44: 54, 45: 35, 46: 35, 47: 46, 48: 47, 49: 49, 50: 41, 51: 42, 52: 42, 53: 52, 54: 53, 55: 56, 56: 45, 57: 47, 58: 47, 59: 48, 60: 61, 61: 62, 62: 53, 63: 53, 64: 73, 65: 66, 66: 55, 67: 66, 68: 57, 69: 58, 70: 61, 71: 81, 72: 62, 73: 82, 74: 65, 75: 65, 76: 66, 77: 67, 78: 67, 79: 68, 80: 90, 81: 82, 82: 72, 83: 72, 84: 85, 85: 76, 86: 86, 87: 78, 88: 87, 89: 88, 90: 81, 91: 81, 92: 82, 93: 82, 94: 85, 95: 84, 96: 87, 97: 87, 98: 87, 99: 88}\n",
      "[10, 11, 21, 31, 32, 42, 52, 53, 62, 72, 82, 81, 90, 80]\n"
     ]
    }
   ],
   "source": [
    "cost = [[math.inf for i in range(V)] for j in range(V)]\n",
    "for i in range(V):\n",
    "    cost[i][i] = 0\n",
    "for i in range(E):\n",
    "    tail = G_mat[i][0]\n",
    "    head = G_mat[i][1]\n",
    "    cost[tail][head] = G_mat[i][2] #make it 1 for BFS\n",
    "\n",
    "#print(cost)\n",
    "def Dijkstra(G_mat, A_dict, cost, V, E, s, t):\n",
    "    parent = {}\n",
    "    for i in range(V):\n",
    "        parent[i] = i\n",
    "    dist = [math.inf]*V\n",
    "    dist[s] = 0\n",
    "    fixed = [s]\n",
    "    chosen = s\n",
    "    while (t not in fixed):\n",
    "        if (chosen not in A_dict.keys()):\n",
    "            print(\"cant use DJ here\")\n",
    "            return dist[t], parent\n",
    "        chosen_range = A_dict[chosen]\n",
    "        k = -1\n",
    "        for i in range(len(chosen_range)):\n",
    "            j = chosen_range[i]\n",
    "            if (j in fixed):\n",
    "                continue\n",
    "            if (dist[j] >= dist[chosen] + cost[chosen][j]):\n",
    "                dist[j] = dist[chosen] + cost[chosen][j]\n",
    "                parent[j] = chosen\n",
    "        min_d = 1e8\n",
    "        min_v = -1\n",
    "        for v in range(V):\n",
    "            if ((dist[v] <= min_d) and (v not in fixed) and (dist[v] != math.inf) and (v in A_dict.keys() or v == t)):\n",
    "                min_d = dist[v]\n",
    "                min_v = v\n",
    "        k = min_v\n",
    "        if (k == -1 or k == math.inf):\n",
    "            break\n",
    "        else:\n",
    "            fixed.append(k)\n",
    "            chosen = k\n",
    "    return dist[t], parent\n",
    "s = 10\n",
    "t = 80\n",
    "min_cost, parent = Dijkstra(G_mat, A_dict, cost, V, E, s, t)\n",
    "print(min_cost)\n",
    "print(parent)\n",
    "path = [t]\n",
    "curr = t\n",
    "while (curr != s and curr != parent[curr]):\n",
    "    curr = parent[curr]\n",
    "    path.insert(0, curr)\n",
    "print(path)               \n",
    "            "
   ]
  },
  {
   "cell_type": "code",
   "execution_count": 40,
   "id": "3b87cd99",
   "metadata": {},
   "outputs": [],
   "source": [
    "fread.close()"
   ]
  }
 ],
 "metadata": {
  "kernelspec": {
   "display_name": "Python 3",
   "language": "python",
   "name": "python3"
  },
  "language_info": {
   "codemirror_mode": {
    "name": "ipython",
    "version": 3
   },
   "file_extension": ".py",
   "mimetype": "text/x-python",
   "name": "python",
   "nbconvert_exporter": "python",
   "pygments_lexer": "ipython3",
   "version": "3.8.8"
  }
 },
 "nbformat": 4,
 "nbformat_minor": 5
}
